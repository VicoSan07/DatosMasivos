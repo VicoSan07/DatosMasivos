{
  "cells": [
    {
      "attachments": {},
      "cell_type": "markdown",
      "metadata": {
        "id": "qfwRcucpKAj6"
      },
      "source": [
        "# **Práctica - Aplicación del Muestreo**\n",
        "\n",
        "[Victor Sanchez](https://github.com/VicoSan07) <br>\n",
        "Dataset: [Anime List Dataset](https://www.kaggle.com/datasets/dbdmobile/myanimelist-dataset)"
      ]
    },
    {
      "attachments": {},
      "cell_type": "markdown",
      "metadata": {
        "id": "EO4Xu3bGKkMr"
      },
      "source": [
        "En esta práctica compararemos la eficacia de aplicar un muestreo estratificado sobre la puntuación o score de una lista de animes, respecto a un muestreo por conveniencia."
      ]
    },
    {
      "cell_type": "code",
      "execution_count": 126,
      "metadata": {
        "id": "XyhiyHgHTQzR"
      },
      "outputs": [],
      "source": [
        "#Librerias basicas\n",
        "import pandas as pd\n",
        "import numpy as np\n",
        "import math as mt\n",
        "import matplotlib.pyplot as plt\n",
        "from sklearn.ensemble import RandomForestClassifier\n",
        "from sklearn import preprocessing\n",
        "from sklearn.metrics import accuracy_score\n",
        "from sklearn.model_selection import StratifiedShuffleSplit"
      ]
    },
    {
      "cell_type": "code",
      "execution_count": null,
      "metadata": {
        "id": "Hory3mvNJy7H"
      },
      "outputs": [],
      "source": [
        "from google.colab import files\n",
        "uploaded = files.upload()"
      ]
    },
    {
      "cell_type": "code",
      "execution_count": 145,
      "metadata": {
        "colab": {
          "base_uri": "https://localhost:8080/",
          "height": 750
        },
        "id": "7oVJXbv9S-C3",
        "outputId": "dc050a43-e8da-483a-d93e-dc08fdc91496"
      },
      "outputs": [
        {
          "data": {
            "text/html": [
              "\n",
              "  <div id=\"df-60635965-e129-4bc9-a188-2510d044ceb7\">\n",
              "    <div class=\"colab-df-container\">\n",
              "      <div>\n",
              "<style scoped>\n",
              "    .dataframe tbody tr th:only-of-type {\n",
              "        vertical-align: middle;\n",
              "    }\n",
              "\n",
              "    .dataframe tbody tr th {\n",
              "        vertical-align: top;\n",
              "    }\n",
              "\n",
              "    .dataframe thead th {\n",
              "        text-align: right;\n",
              "    }\n",
              "</style>\n",
              "<table border=\"1\" class=\"dataframe\">\n",
              "  <thead>\n",
              "    <tr style=\"text-align: right;\">\n",
              "      <th></th>\n",
              "      <th>anime_id</th>\n",
              "      <th>Name</th>\n",
              "      <th>Score</th>\n",
              "      <th>Genres</th>\n",
              "      <th>English name</th>\n",
              "      <th>Japanese name</th>\n",
              "      <th>sypnopsis</th>\n",
              "      <th>Type</th>\n",
              "      <th>Episodes</th>\n",
              "      <th>Aired</th>\n",
              "      <th>...</th>\n",
              "      <th>Duration</th>\n",
              "      <th>Rating</th>\n",
              "      <th>Ranked</th>\n",
              "      <th>Popularity</th>\n",
              "      <th>Members</th>\n",
              "      <th>Favorites</th>\n",
              "      <th>Watching</th>\n",
              "      <th>Completed</th>\n",
              "      <th>On-Hold</th>\n",
              "      <th>Dropped</th>\n",
              "    </tr>\n",
              "  </thead>\n",
              "  <tbody>\n",
              "    <tr>\n",
              "      <th>0</th>\n",
              "      <td>1</td>\n",
              "      <td>Cowboy Bebop</td>\n",
              "      <td>8.78</td>\n",
              "      <td>Action, Adventure, Comedy, Drama, Sci-Fi, Space</td>\n",
              "      <td>Cowboy Bebop</td>\n",
              "      <td>カウボーイビバップ</td>\n",
              "      <td>In the year 2071, humanity has colonized sever...</td>\n",
              "      <td>TV</td>\n",
              "      <td>26</td>\n",
              "      <td>Apr 3, 1998 to Apr 24, 1999</td>\n",
              "      <td>...</td>\n",
              "      <td>24 min. per ep.</td>\n",
              "      <td>R - 17+ (violence &amp; profanity)</td>\n",
              "      <td>28.0</td>\n",
              "      <td>39</td>\n",
              "      <td>1251960</td>\n",
              "      <td>61971</td>\n",
              "      <td>105808</td>\n",
              "      <td>718161</td>\n",
              "      <td>71513</td>\n",
              "      <td>26678</td>\n",
              "    </tr>\n",
              "    <tr>\n",
              "      <th>1</th>\n",
              "      <td>5</td>\n",
              "      <td>Cowboy Bebop: Tengoku no Tobira</td>\n",
              "      <td>8.39</td>\n",
              "      <td>Action, Drama, Mystery, Sci-Fi, Space</td>\n",
              "      <td>Cowboy Bebop:The Movie</td>\n",
              "      <td>カウボーイビバップ 天国の扉</td>\n",
              "      <td>other day, another bounty—such is the life of ...</td>\n",
              "      <td>Movie</td>\n",
              "      <td>1</td>\n",
              "      <td>Sep 1, 2001</td>\n",
              "      <td>...</td>\n",
              "      <td>1 hr. 55 min.</td>\n",
              "      <td>R - 17+ (violence &amp; profanity)</td>\n",
              "      <td>159.0</td>\n",
              "      <td>518</td>\n",
              "      <td>273145</td>\n",
              "      <td>1174</td>\n",
              "      <td>4143</td>\n",
              "      <td>208333</td>\n",
              "      <td>1935</td>\n",
              "      <td>770</td>\n",
              "    </tr>\n",
              "    <tr>\n",
              "      <th>2</th>\n",
              "      <td>6</td>\n",
              "      <td>Trigun</td>\n",
              "      <td>8.24</td>\n",
              "      <td>Action, Sci-Fi, Adventure, Comedy, Drama, Shounen</td>\n",
              "      <td>Trigun</td>\n",
              "      <td>トライガン</td>\n",
              "      <td>Vash the Stampede is the man with a $$60,000,0...</td>\n",
              "      <td>TV</td>\n",
              "      <td>26</td>\n",
              "      <td>Apr 1, 1998 to Sep 30, 1998</td>\n",
              "      <td>...</td>\n",
              "      <td>24 min. per ep.</td>\n",
              "      <td>PG-13 - Teens 13 or older</td>\n",
              "      <td>266.0</td>\n",
              "      <td>201</td>\n",
              "      <td>558913</td>\n",
              "      <td>12944</td>\n",
              "      <td>29113</td>\n",
              "      <td>343492</td>\n",
              "      <td>25465</td>\n",
              "      <td>13925</td>\n",
              "    </tr>\n",
              "    <tr>\n",
              "      <th>3</th>\n",
              "      <td>7</td>\n",
              "      <td>Witch Hunter Robin</td>\n",
              "      <td>7.27</td>\n",
              "      <td>Action, Mystery, Police, Supernatural, Drama, ...</td>\n",
              "      <td>Witch Hunter Robin</td>\n",
              "      <td>Witch Hunter ROBIN (ウイッチハンターロビン)</td>\n",
              "      <td>ches are individuals with special powers like ...</td>\n",
              "      <td>TV</td>\n",
              "      <td>26</td>\n",
              "      <td>Jul 2, 2002 to Dec 24, 2002</td>\n",
              "      <td>...</td>\n",
              "      <td>25 min. per ep.</td>\n",
              "      <td>PG-13 - Teens 13 or older</td>\n",
              "      <td>2481.0</td>\n",
              "      <td>1467</td>\n",
              "      <td>94683</td>\n",
              "      <td>587</td>\n",
              "      <td>4300</td>\n",
              "      <td>46165</td>\n",
              "      <td>5121</td>\n",
              "      <td>5378</td>\n",
              "    </tr>\n",
              "    <tr>\n",
              "      <th>4</th>\n",
              "      <td>8</td>\n",
              "      <td>Bouken Ou Beet</td>\n",
              "      <td>6.98</td>\n",
              "      <td>Adventure, Fantasy, Shounen, Supernatural</td>\n",
              "      <td>Beet the Vandel Buster</td>\n",
              "      <td>冒険王ビィト</td>\n",
              "      <td>It is the dark century and the people are suff...</td>\n",
              "      <td>TV</td>\n",
              "      <td>52</td>\n",
              "      <td>Sep 30, 2004 to Sep 29, 2005</td>\n",
              "      <td>...</td>\n",
              "      <td>23 min. per ep.</td>\n",
              "      <td>PG - Children</td>\n",
              "      <td>3710.0</td>\n",
              "      <td>4369</td>\n",
              "      <td>13224</td>\n",
              "      <td>18</td>\n",
              "      <td>642</td>\n",
              "      <td>7314</td>\n",
              "      <td>766</td>\n",
              "      <td>1108</td>\n",
              "    </tr>\n",
              "  </tbody>\n",
              "</table>\n",
              "<p>5 rows × 25 columns</p>\n",
              "</div>\n",
              "      <button class=\"colab-df-convert\" onclick=\"convertToInteractive('df-60635965-e129-4bc9-a188-2510d044ceb7')\"\n",
              "              title=\"Convert this dataframe to an interactive table.\"\n",
              "              style=\"display:none;\">\n",
              "        \n",
              "  <svg xmlns=\"http://www.w3.org/2000/svg\" height=\"24px\"viewBox=\"0 0 24 24\"\n",
              "       width=\"24px\">\n",
              "    <path d=\"M0 0h24v24H0V0z\" fill=\"none\"/>\n",
              "    <path d=\"M18.56 5.44l.94 2.06.94-2.06 2.06-.94-2.06-.94-.94-2.06-.94 2.06-2.06.94zm-11 1L8.5 8.5l.94-2.06 2.06-.94-2.06-.94L8.5 2.5l-.94 2.06-2.06.94zm10 10l.94 2.06.94-2.06 2.06-.94-2.06-.94-.94-2.06-.94 2.06-2.06.94z\"/><path d=\"M17.41 7.96l-1.37-1.37c-.4-.4-.92-.59-1.43-.59-.52 0-1.04.2-1.43.59L10.3 9.45l-7.72 7.72c-.78.78-.78 2.05 0 2.83L4 21.41c.39.39.9.59 1.41.59.51 0 1.02-.2 1.41-.59l7.78-7.78 2.81-2.81c.8-.78.8-2.07 0-2.86zM5.41 20L4 18.59l7.72-7.72 1.47 1.35L5.41 20z\"/>\n",
              "  </svg>\n",
              "      </button>\n",
              "      \n",
              "  <style>\n",
              "    .colab-df-container {\n",
              "      display:flex;\n",
              "      flex-wrap:wrap;\n",
              "      gap: 12px;\n",
              "    }\n",
              "\n",
              "    .colab-df-convert {\n",
              "      background-color: #E8F0FE;\n",
              "      border: none;\n",
              "      border-radius: 50%;\n",
              "      cursor: pointer;\n",
              "      display: none;\n",
              "      fill: #1967D2;\n",
              "      height: 32px;\n",
              "      padding: 0 0 0 0;\n",
              "      width: 32px;\n",
              "    }\n",
              "\n",
              "    .colab-df-convert:hover {\n",
              "      background-color: #E2EBFA;\n",
              "      box-shadow: 0px 1px 2px rgba(60, 64, 67, 0.3), 0px 1px 3px 1px rgba(60, 64, 67, 0.15);\n",
              "      fill: #174EA6;\n",
              "    }\n",
              "\n",
              "    [theme=dark] .colab-df-convert {\n",
              "      background-color: #3B4455;\n",
              "      fill: #D2E3FC;\n",
              "    }\n",
              "\n",
              "    [theme=dark] .colab-df-convert:hover {\n",
              "      background-color: #434B5C;\n",
              "      box-shadow: 0px 1px 3px 1px rgba(0, 0, 0, 0.15);\n",
              "      filter: drop-shadow(0px 1px 2px rgba(0, 0, 0, 0.3));\n",
              "      fill: #FFFFFF;\n",
              "    }\n",
              "  </style>\n",
              "\n",
              "      <script>\n",
              "        const buttonEl =\n",
              "          document.querySelector('#df-60635965-e129-4bc9-a188-2510d044ceb7 button.colab-df-convert');\n",
              "        buttonEl.style.display =\n",
              "          google.colab.kernel.accessAllowed ? 'block' : 'none';\n",
              "\n",
              "        async function convertToInteractive(key) {\n",
              "          const element = document.querySelector('#df-60635965-e129-4bc9-a188-2510d044ceb7');\n",
              "          const dataTable =\n",
              "            await google.colab.kernel.invokeFunction('convertToInteractive',\n",
              "                                                     [key], {});\n",
              "          if (!dataTable) return;\n",
              "\n",
              "          const docLinkHtml = 'Like what you see? Visit the ' +\n",
              "            '<a target=\"_blank\" href=https://colab.research.google.com/notebooks/data_table.ipynb>data table notebook</a>'\n",
              "            + ' to learn more about interactive tables.';\n",
              "          element.innerHTML = '';\n",
              "          dataTable['output_type'] = 'display_data';\n",
              "          await google.colab.output.renderOutput(dataTable, element);\n",
              "          const docLink = document.createElement('div');\n",
              "          docLink.innerHTML = docLinkHtml;\n",
              "          element.appendChild(docLink);\n",
              "        }\n",
              "      </script>\n",
              "    </div>\n",
              "  </div>\n",
              "  "
            ],
            "text/plain": [
              "   anime_id                             Name  Score  \\\n",
              "0         1                     Cowboy Bebop   8.78   \n",
              "1         5  Cowboy Bebop: Tengoku no Tobira   8.39   \n",
              "2         6                           Trigun   8.24   \n",
              "3         7               Witch Hunter Robin   7.27   \n",
              "4         8                   Bouken Ou Beet   6.98   \n",
              "\n",
              "                                              Genres            English name  \\\n",
              "0    Action, Adventure, Comedy, Drama, Sci-Fi, Space            Cowboy Bebop   \n",
              "1              Action, Drama, Mystery, Sci-Fi, Space  Cowboy Bebop:The Movie   \n",
              "2  Action, Sci-Fi, Adventure, Comedy, Drama, Shounen                  Trigun   \n",
              "3  Action, Mystery, Police, Supernatural, Drama, ...      Witch Hunter Robin   \n",
              "4          Adventure, Fantasy, Shounen, Supernatural  Beet the Vandel Buster   \n",
              "\n",
              "                      Japanese name  \\\n",
              "0                         カウボーイビバップ   \n",
              "1                    カウボーイビバップ 天国の扉   \n",
              "2                             トライガン   \n",
              "3  Witch Hunter ROBIN (ウイッチハンターロビン)   \n",
              "4                            冒険王ビィト   \n",
              "\n",
              "                                           sypnopsis   Type Episodes  \\\n",
              "0  In the year 2071, humanity has colonized sever...     TV       26   \n",
              "1  other day, another bounty—such is the life of ...  Movie        1   \n",
              "2  Vash the Stampede is the man with a $$60,000,0...     TV       26   \n",
              "3  ches are individuals with special powers like ...     TV       26   \n",
              "4  It is the dark century and the people are suff...     TV       52   \n",
              "\n",
              "                          Aired  ...         Duration  \\\n",
              "0   Apr 3, 1998 to Apr 24, 1999  ...  24 min. per ep.   \n",
              "1                   Sep 1, 2001  ...    1 hr. 55 min.   \n",
              "2   Apr 1, 1998 to Sep 30, 1998  ...  24 min. per ep.   \n",
              "3   Jul 2, 2002 to Dec 24, 2002  ...  25 min. per ep.   \n",
              "4  Sep 30, 2004 to Sep 29, 2005  ...  23 min. per ep.   \n",
              "\n",
              "                           Rating  Ranked Popularity  Members Favorites  \\\n",
              "0  R - 17+ (violence & profanity)    28.0         39  1251960     61971   \n",
              "1  R - 17+ (violence & profanity)   159.0        518   273145      1174   \n",
              "2       PG-13 - Teens 13 or older   266.0        201   558913     12944   \n",
              "3       PG-13 - Teens 13 or older  2481.0       1467    94683       587   \n",
              "4                   PG - Children  3710.0       4369    13224        18   \n",
              "\n",
              "  Watching  Completed  On-Hold  Dropped  \n",
              "0   105808     718161    71513    26678  \n",
              "1     4143     208333     1935      770  \n",
              "2    29113     343492    25465    13925  \n",
              "3     4300      46165     5121     5378  \n",
              "4      642       7314      766     1108  \n",
              "\n",
              "[5 rows x 25 columns]"
            ]
          },
          "execution_count": 145,
          "metadata": {},
          "output_type": "execute_result"
        }
      ],
      "source": [
        "#Lectura de archivo\n",
        "Anime_DB = pd.read_csv(\"anime-filtered.csv\",delimiter = \",\")\n",
        "Anime_DB.head()"
      ]
    },
    {
      "cell_type": "code",
      "execution_count": 146,
      "metadata": {
        "id": "BDl0lWcctC-Z"
      },
      "outputs": [],
      "source": [
        "#Se remueven los animes de tipo no identificado: 36 desconocidos\n",
        "indexType = Anime_DB[ Anime_DB['Type'] == 'Unknown'].index\n",
        "Anime_DB.drop(indexType , inplace=True)"
      ]
    },
    {
      "cell_type": "code",
      "execution_count": 147,
      "metadata": {
        "colab": {
          "base_uri": "https://localhost:8080/",
          "height": 237
        },
        "id": "fQtGcbtWUzBe",
        "outputId": "41d73ffc-c20b-463c-8be7-db022c83c46b"
      },
      "outputs": [
        {
          "data": {
            "text/html": [
              "\n",
              "  <div id=\"df-d878d526-553d-43b7-b570-181399458b2c\">\n",
              "    <div class=\"colab-df-container\">\n",
              "      <div>\n",
              "<style scoped>\n",
              "    .dataframe tbody tr th:only-of-type {\n",
              "        vertical-align: middle;\n",
              "    }\n",
              "\n",
              "    .dataframe tbody tr th {\n",
              "        vertical-align: top;\n",
              "    }\n",
              "\n",
              "    .dataframe thead th {\n",
              "        text-align: right;\n",
              "    }\n",
              "</style>\n",
              "<table border=\"1\" class=\"dataframe\">\n",
              "  <thead>\n",
              "    <tr style=\"text-align: right;\">\n",
              "      <th></th>\n",
              "      <th>Type</th>\n",
              "      <th>Size</th>\n",
              "    </tr>\n",
              "  </thead>\n",
              "  <tbody>\n",
              "    <tr>\n",
              "      <th>0</th>\n",
              "      <td>Movie</td>\n",
              "      <td>2636</td>\n",
              "    </tr>\n",
              "    <tr>\n",
              "      <th>1</th>\n",
              "      <td>Music</td>\n",
              "      <td>744</td>\n",
              "    </tr>\n",
              "    <tr>\n",
              "      <th>2</th>\n",
              "      <td>ONA</td>\n",
              "      <td>1531</td>\n",
              "    </tr>\n",
              "    <tr>\n",
              "      <th>3</th>\n",
              "      <td>OVA</td>\n",
              "      <td>3364</td>\n",
              "    </tr>\n",
              "    <tr>\n",
              "      <th>4</th>\n",
              "      <td>Special</td>\n",
              "      <td>1991</td>\n",
              "    </tr>\n",
              "    <tr>\n",
              "      <th>5</th>\n",
              "      <td>TV</td>\n",
              "      <td>4650</td>\n",
              "    </tr>\n",
              "  </tbody>\n",
              "</table>\n",
              "</div>\n",
              "      <button class=\"colab-df-convert\" onclick=\"convertToInteractive('df-d878d526-553d-43b7-b570-181399458b2c')\"\n",
              "              title=\"Convert this dataframe to an interactive table.\"\n",
              "              style=\"display:none;\">\n",
              "        \n",
              "  <svg xmlns=\"http://www.w3.org/2000/svg\" height=\"24px\"viewBox=\"0 0 24 24\"\n",
              "       width=\"24px\">\n",
              "    <path d=\"M0 0h24v24H0V0z\" fill=\"none\"/>\n",
              "    <path d=\"M18.56 5.44l.94 2.06.94-2.06 2.06-.94-2.06-.94-.94-2.06-.94 2.06-2.06.94zm-11 1L8.5 8.5l.94-2.06 2.06-.94-2.06-.94L8.5 2.5l-.94 2.06-2.06.94zm10 10l.94 2.06.94-2.06 2.06-.94-2.06-.94-.94-2.06-.94 2.06-2.06.94z\"/><path d=\"M17.41 7.96l-1.37-1.37c-.4-.4-.92-.59-1.43-.59-.52 0-1.04.2-1.43.59L10.3 9.45l-7.72 7.72c-.78.78-.78 2.05 0 2.83L4 21.41c.39.39.9.59 1.41.59.51 0 1.02-.2 1.41-.59l7.78-7.78 2.81-2.81c.8-.78.8-2.07 0-2.86zM5.41 20L4 18.59l7.72-7.72 1.47 1.35L5.41 20z\"/>\n",
              "  </svg>\n",
              "      </button>\n",
              "      \n",
              "  <style>\n",
              "    .colab-df-container {\n",
              "      display:flex;\n",
              "      flex-wrap:wrap;\n",
              "      gap: 12px;\n",
              "    }\n",
              "\n",
              "    .colab-df-convert {\n",
              "      background-color: #E8F0FE;\n",
              "      border: none;\n",
              "      border-radius: 50%;\n",
              "      cursor: pointer;\n",
              "      display: none;\n",
              "      fill: #1967D2;\n",
              "      height: 32px;\n",
              "      padding: 0 0 0 0;\n",
              "      width: 32px;\n",
              "    }\n",
              "\n",
              "    .colab-df-convert:hover {\n",
              "      background-color: #E2EBFA;\n",
              "      box-shadow: 0px 1px 2px rgba(60, 64, 67, 0.3), 0px 1px 3px 1px rgba(60, 64, 67, 0.15);\n",
              "      fill: #174EA6;\n",
              "    }\n",
              "\n",
              "    [theme=dark] .colab-df-convert {\n",
              "      background-color: #3B4455;\n",
              "      fill: #D2E3FC;\n",
              "    }\n",
              "\n",
              "    [theme=dark] .colab-df-convert:hover {\n",
              "      background-color: #434B5C;\n",
              "      box-shadow: 0px 1px 3px 1px rgba(0, 0, 0, 0.15);\n",
              "      filter: drop-shadow(0px 1px 2px rgba(0, 0, 0, 0.3));\n",
              "      fill: #FFFFFF;\n",
              "    }\n",
              "  </style>\n",
              "\n",
              "      <script>\n",
              "        const buttonEl =\n",
              "          document.querySelector('#df-d878d526-553d-43b7-b570-181399458b2c button.colab-df-convert');\n",
              "        buttonEl.style.display =\n",
              "          google.colab.kernel.accessAllowed ? 'block' : 'none';\n",
              "\n",
              "        async function convertToInteractive(key) {\n",
              "          const element = document.querySelector('#df-d878d526-553d-43b7-b570-181399458b2c');\n",
              "          const dataTable =\n",
              "            await google.colab.kernel.invokeFunction('convertToInteractive',\n",
              "                                                     [key], {});\n",
              "          if (!dataTable) return;\n",
              "\n",
              "          const docLinkHtml = 'Like what you see? Visit the ' +\n",
              "            '<a target=\"_blank\" href=https://colab.research.google.com/notebooks/data_table.ipynb>data table notebook</a>'\n",
              "            + ' to learn more about interactive tables.';\n",
              "          element.innerHTML = '';\n",
              "          dataTable['output_type'] = 'display_data';\n",
              "          await google.colab.output.renderOutput(dataTable, element);\n",
              "          const docLink = document.createElement('div');\n",
              "          docLink.innerHTML = docLinkHtml;\n",
              "          element.appendChild(docLink);\n",
              "        }\n",
              "      </script>\n",
              "    </div>\n",
              "  </div>\n",
              "  "
            ],
            "text/plain": [
              "      Type  Size\n",
              "0    Movie  2636\n",
              "1    Music   744\n",
              "2      ONA  1531\n",
              "3      OVA  3364\n",
              "4  Special  1991\n",
              "5       TV  4650"
            ]
          },
          "execution_count": 147,
          "metadata": {},
          "output_type": "execute_result"
        }
      ],
      "source": [
        "#Se obtiene el tamaño de cada estrato\n",
        "InfoType = Anime_DB.groupby(['Type'], as_index=False).size()\n",
        "InfoType.columns = ['Type','Size']\n",
        "InfoType"
      ]
    },
    {
      "cell_type": "code",
      "execution_count": 187,
      "metadata": {
        "colab": {
          "base_uri": "https://localhost:8080/"
        },
        "id": "s_gHOwH5vjjH",
        "outputId": "0f00885a-2249-4f6d-9c9e-c414e09b4dc5"
      },
      "outputs": [
        {
          "data": {
            "text/plain": [
              "26005.710713327968"
            ]
          },
          "execution_count": 187,
          "metadata": {},
          "output_type": "execute_result"
        }
      ],
      "source": [
        "#De cada estrato se obtiene su respectiva media y se pondera para obtener la media poblacional\n",
        "#(en función del tamaño de los estratos)\n",
        "InfoScore = pd.DataFrame(Anime_DB.groupby(['Type'], as_index=False)['Completed'].mean())\n",
        "InfoScore.columns = ['Type','ScoreA']\n",
        "ResumeDB = pd.merge(InfoType, InfoScore, on=\"Type\")\n",
        "ResumeDB['Apond'] = ResumeDB['Size']/len(Anime_DB)*ResumeDB['ScoreA']\n",
        "popmean = ResumeDB['Apond'].sum()\n",
        "popmean"
      ]
    },
    {
      "cell_type": "code",
      "execution_count": 199,
      "metadata": {
        "id": "jj5XA0eGWMtZ"
      },
      "outputs": [],
      "source": [
        "#A partir de aquí se obtiene una muestra aleatoria estratificada del 20% con una asignación proporcional, es decir ni =Ni/N\n",
        "Anime_DBSample1 = Anime_DB.groupby('Type', group_keys=False).apply(lambda x: x.sample( mt.ceil( (len(x)/len(Anime_DB))*mt.ceil(len(Anime_DB)*0.2) )  ))"
      ]
    },
    {
      "cell_type": "code",
      "execution_count": 200,
      "metadata": {
        "colab": {
          "base_uri": "https://localhost:8080/"
        },
        "id": "eAjeoBSIXGGe",
        "outputId": "fdef1253-bd1d-41db-c416-340e6eb158cc"
      },
      "outputs": [
        {
          "data": {
            "text/plain": [
              "28753.200200870437"
            ]
          },
          "execution_count": 200,
          "metadata": {},
          "output_type": "execute_result"
        }
      ],
      "source": [
        "#Se obtiene la media estratificada estimada para la muestra seleccionada\n",
        "InfoTypeSample1 = Anime_DBSample1.groupby(['Type'], as_index=False).size()\n",
        "InfoTypeSample1.columns = ['Type','Size']\n",
        "InfoScoreSample1 = pd.DataFrame(Anime_DBSample1.groupby(['Type'], as_index=False)['Completed'].mean())\n",
        "InfoScoreSample1.columns = ['Type','ScoreA']\n",
        "ResumeDBSample1 = pd.merge(InfoTypeSample1, InfoScoreSample1, on=\"Type\")\n",
        "ResumeDBSample1['Apond'] = ResumeDBSample1['Size']/len(Anime_DBSample1)*ResumeDBSample1['ScoreA']\n",
        "samplemean = ResumeDBSample1['Apond'].sum()\n",
        "samplemean"
      ]
    },
    {
      "cell_type": "code",
      "execution_count": 201,
      "metadata": {
        "id": "7m0K8RZq16Cq"
      },
      "outputs": [],
      "source": [
        "#¿Y si probamos la Ley de los Grandes Números? en conjunto con el Teorema del Límite Central\n",
        "n_iter = 1000\n",
        "samplemeans_array = np.zeros(n_iter)\n",
        "\n",
        "#filling the array with loop\n",
        "for i in range(0,n_iter):\n",
        "    Anime_DBSample1 = Anime_DB.groupby('Type', group_keys=False).apply(lambda x: x.sample( mt.ceil( (len(x)/len(Anime_DB))*mt.ceil(len(Anime_DB)*0.2) )  ))\n",
        "    InfoTypeSample1 = Anime_DBSample1.groupby(['Type'], as_index=False).size()\n",
        "    InfoTypeSample1.columns = ['Type','Size']\n",
        "    InfoScoreSample1 = pd.DataFrame(Anime_DBSample1.groupby(['Type'], as_index=False)['Completed'].mean())\n",
        "    InfoScoreSample1.columns = ['Type','ScoreA']\n",
        "    ResumeDBSample1 = pd.merge(InfoTypeSample1, InfoScoreSample1, on=\"Type\")\n",
        "    ResumeDBSample1['Apond'] = ResumeDBSample1['Size']/len(Anime_DBSample1)*ResumeDBSample1['ScoreA']\n",
        "    samplemean = ResumeDBSample1['Apond'].sum()\n",
        "    samplemeans_array[i] = samplemean #filling  x_array"
      ]
    },
    {
      "cell_type": "code",
      "execution_count": 202,
      "metadata": {
        "colab": {
          "base_uri": "https://localhost:8080/",
          "height": 430
        },
        "id": "Nv3SSMSv21sC",
        "outputId": "53846ee3-3c99-459e-eb99-187e70a19551"
      },
      "outputs": [
        {
          "data": {
            "image/png": "[encoded data removed]",
            "text/plain": [
              "<Figure size 640x480 with 1 Axes>"
            ]
          },
          "metadata": {},
          "output_type": "display_data"
        }
      ],
      "source": [
        "plt.hist(samplemeans_array)\n",
        "plt.show()"
      ]
    },
    {
      "cell_type": "code",
      "execution_count": 203,
      "metadata": {
        "colab": {
          "base_uri": "https://localhost:8080/"
        },
        "id": "UwuBDD0n3pVm",
        "outputId": "43f4b083-8c35-4b79-e229-310f576ad968"
      },
      "outputs": [
        {
          "data": {
            "text/plain": [
              "26055.904215266153"
            ]
          },
          "execution_count": 203,
          "metadata": {},
          "output_type": "execute_result"
        }
      ],
      "source": [
        "#Media muestral estimada\n",
        "samplemeans_array.mean()"
      ]
    },
    {
      "cell_type": "code",
      "execution_count": 205,
      "metadata": {
        "colab": {
          "base_uri": "https://localhost:8080/"
        },
        "id": "gsICsSXZ-yiJ",
        "outputId": "7e7c9284-d09e-419c-d4c4-d6721cc0fe95"
      },
      "outputs": [
        {
          "data": {
            "text/plain": [
              "0.1926377281843744"
            ]
          },
          "execution_count": 205,
          "metadata": {},
          "output_type": "execute_result"
        }
      ],
      "source": [
        "#Margen de Error (en porcentaje)\n",
        "abs(popmean-samplemeans_array.mean())/samplemeans_array.mean()*100"
      ]
    },
    {
      "cell_type": "code",
      "execution_count": 206,
      "metadata": {
        "colab": {
          "base_uri": "https://localhost:8080/"
        },
        "id": "LzQNyKD55B3m",
        "outputId": "fbff4607-78a6-450e-8ab9-92fd6ae5aa83"
      },
      "outputs": [
        {
          "data": {
            "text/plain": [
              "24778.614498242325"
            ]
          },
          "execution_count": 206,
          "metadata": {},
          "output_type": "execute_result"
        }
      ],
      "source": [
        "#¿Y si el muestreo es por conveniencia? Buscando generar una estadística falsa de que los animes cuentan con un buen número promedio de espectadores que los completan\n",
        "Anime_DBSample2 = Anime_DB[ Anime_DB['Ranked'] > mt.ceil(len(Anime_DB)*0.2)  ]\n",
        "InfoTypeSample2 = Anime_DBSample2.groupby(['Type'], as_index=False).size()\n",
        "InfoTypeSample2.columns = ['Type','Size']\n",
        "InfoScoreSample2 = pd.DataFrame(Anime_DBSample1.groupby(['Type'], as_index=False)['Completed'].mean())\n",
        "InfoScoreSample2.columns = ['Type','ScoreA']\n",
        "ResumeDBSample2 = pd.merge(InfoTypeSample2, InfoScoreSample2, on=\"Type\")\n",
        "ResumeDBSample2['Apond'] = ResumeDBSample2['Size']/len(Anime_DBSample2)*ResumeDBSample2['ScoreA']\n",
        "samplemean2 = ResumeDBSample2['Apond'].sum()\n",
        "samplemean2"
      ]
    },
    {
      "cell_type": "code",
      "execution_count": 208,
      "metadata": {
        "colab": {
          "base_uri": "https://localhost:8080/"
        },
        "id": "u_0k22U7_sMH",
        "outputId": "8f3a7e74-2a88-4e7f-dc0d-e7de4fd3825b"
      },
      "outputs": [
        {
          "data": {
            "text/plain": [
              "4.952239017127804"
            ]
          },
          "execution_count": 208,
          "metadata": {},
          "output_type": "execute_result"
        }
      ],
      "source": [
        "#Margen de Error (en porcentaje)\n",
        "abs(popmean-samplemean2)/samplemean2*100\n",
        "#Nota: El margen de error no tiene relevancia estadísitica en este segundo muestreo al provenir de una muestra no probabílistica, por lo que se sugiere omitirlo"
      ]
    },
    {
      "attachments": {},
      "cell_type": "markdown",
      "metadata": {},
      "source": [
        "#### Conclusiones"
      ]
    },
    {
      "attachments": {},
      "cell_type": "markdown",
      "metadata": {},
      "source": [
        "A tráves de esta práctica logramos observar las ventajas de utilizar técnicas de muestreo probabilísticas frente a muestreos no aleatorios, los cuales no son posibles de validar su significancia estadística derivada del sesgo inherente que llevan. En este caso partícular, el Muestreo Sistemático tuvo una cota de error más pequeña respecto al estimador poblacional.\n",
        "Por otra parte, validamos el teorema de límite central el cual nos dice que entre más grande sea el tamaño de muestra de una población, la distribución de sus medias muestrales tenderá a una normal, como corroboramos en el histograma"
      ]
    }
  ],
  "metadata": {
    "colab": {
      "provenance": []
    },
    "kernelspec": {
      "display_name": "Python 3",
      "name": "python3"
    },
    "language_info": {
      "name": "python"
    }
  },
  "nbformat": 4,
  "nbformat_minor": 0
}
