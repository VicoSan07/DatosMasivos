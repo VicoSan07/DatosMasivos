{
 "cells": [
  {
   "attachments": {},
   "cell_type": "markdown",
   "metadata": {},
   "source": [
    "# **Algoritmos No Supervisados**\n",
    "\n",
    "[Victor Sanchez](https://github.com/VicoSan07) <br>\n",
    "Dataset: [Wine Quality](https://archive.ics.uci.edu/ml/datasets/wine+quality) "
   ]
  },
  {
   "attachments": {},
   "cell_type": "markdown",
   "metadata": {},
   "source": [
    "### **Objetivo**\n",
    "\n",
    "Utilizar y analizar los resultados obtenidos a tráves de distintos algoritmos no supervisados con el fin de agrupar datos, encontrar relaciones entre variables y posiblemente identificar outliers si el método lo permite."
   ]
  },
  {
   "attachments": {},
   "cell_type": "markdown",
   "metadata": {},
   "source": [
    "### **Carga de Dataset**"
   ]
  },
  {
   "cell_type": "code",
   "execution_count": 1,
   "metadata": {},
   "outputs": [
    {
     "data": {
      "text/html": [
       "<div>\n",
       "<style scoped>\n",
       "    .dataframe tbody tr th:only-of-type {\n",
       "        vertical-align: middle;\n",
       "    }\n",
       "\n",
       "    .dataframe tbody tr th {\n",
       "        vertical-align: top;\n",
       "    }\n",
       "\n",
       "    .dataframe thead th {\n",
       "        text-align: right;\n",
       "    }\n",
       "</style>\n",
       "<table border=\"1\" class=\"dataframe\">\n",
       "  <thead>\n",
       "    <tr style=\"text-align: right;\">\n",
       "      <th></th>\n",
       "      <th>FA</th>\n",
       "      <th>VA</th>\n",
       "      <th>CA</th>\n",
       "      <th>RS</th>\n",
       "      <th>CH</th>\n",
       "      <th>FSD</th>\n",
       "      <th>TSD</th>\n",
       "      <th>DE</th>\n",
       "      <th>PH</th>\n",
       "      <th>SU</th>\n",
       "      <th>AL</th>\n",
       "      <th>QU</th>\n",
       "    </tr>\n",
       "  </thead>\n",
       "  <tbody>\n",
       "    <tr>\n",
       "      <th>0</th>\n",
       "      <td>7.4</td>\n",
       "      <td>0.70</td>\n",
       "      <td>0.00</td>\n",
       "      <td>1.9</td>\n",
       "      <td>0.076</td>\n",
       "      <td>11.0</td>\n",
       "      <td>34.0</td>\n",
       "      <td>0.99780</td>\n",
       "      <td>3.51</td>\n",
       "      <td>0.56</td>\n",
       "      <td>9.4</td>\n",
       "      <td>5</td>\n",
       "    </tr>\n",
       "    <tr>\n",
       "      <th>1</th>\n",
       "      <td>7.8</td>\n",
       "      <td>0.88</td>\n",
       "      <td>0.00</td>\n",
       "      <td>2.6</td>\n",
       "      <td>0.098</td>\n",
       "      <td>25.0</td>\n",
       "      <td>67.0</td>\n",
       "      <td>0.99680</td>\n",
       "      <td>3.20</td>\n",
       "      <td>0.68</td>\n",
       "      <td>9.8</td>\n",
       "      <td>5</td>\n",
       "    </tr>\n",
       "    <tr>\n",
       "      <th>2</th>\n",
       "      <td>7.8</td>\n",
       "      <td>0.76</td>\n",
       "      <td>0.04</td>\n",
       "      <td>2.3</td>\n",
       "      <td>0.092</td>\n",
       "      <td>15.0</td>\n",
       "      <td>54.0</td>\n",
       "      <td>0.99700</td>\n",
       "      <td>3.26</td>\n",
       "      <td>0.65</td>\n",
       "      <td>9.8</td>\n",
       "      <td>5</td>\n",
       "    </tr>\n",
       "    <tr>\n",
       "      <th>3</th>\n",
       "      <td>11.2</td>\n",
       "      <td>0.28</td>\n",
       "      <td>0.56</td>\n",
       "      <td>1.9</td>\n",
       "      <td>0.075</td>\n",
       "      <td>17.0</td>\n",
       "      <td>60.0</td>\n",
       "      <td>0.99800</td>\n",
       "      <td>3.16</td>\n",
       "      <td>0.58</td>\n",
       "      <td>9.8</td>\n",
       "      <td>6</td>\n",
       "    </tr>\n",
       "    <tr>\n",
       "      <th>4</th>\n",
       "      <td>7.4</td>\n",
       "      <td>0.70</td>\n",
       "      <td>0.00</td>\n",
       "      <td>1.9</td>\n",
       "      <td>0.076</td>\n",
       "      <td>11.0</td>\n",
       "      <td>34.0</td>\n",
       "      <td>0.99780</td>\n",
       "      <td>3.51</td>\n",
       "      <td>0.56</td>\n",
       "      <td>9.4</td>\n",
       "      <td>5</td>\n",
       "    </tr>\n",
       "    <tr>\n",
       "      <th>...</th>\n",
       "      <td>...</td>\n",
       "      <td>...</td>\n",
       "      <td>...</td>\n",
       "      <td>...</td>\n",
       "      <td>...</td>\n",
       "      <td>...</td>\n",
       "      <td>...</td>\n",
       "      <td>...</td>\n",
       "      <td>...</td>\n",
       "      <td>...</td>\n",
       "      <td>...</td>\n",
       "      <td>...</td>\n",
       "    </tr>\n",
       "    <tr>\n",
       "      <th>6492</th>\n",
       "      <td>6.2</td>\n",
       "      <td>0.21</td>\n",
       "      <td>0.29</td>\n",
       "      <td>1.6</td>\n",
       "      <td>0.039</td>\n",
       "      <td>24.0</td>\n",
       "      <td>92.0</td>\n",
       "      <td>0.99114</td>\n",
       "      <td>3.27</td>\n",
       "      <td>0.50</td>\n",
       "      <td>11.2</td>\n",
       "      <td>6</td>\n",
       "    </tr>\n",
       "    <tr>\n",
       "      <th>6493</th>\n",
       "      <td>6.6</td>\n",
       "      <td>0.32</td>\n",
       "      <td>0.36</td>\n",
       "      <td>8.0</td>\n",
       "      <td>0.047</td>\n",
       "      <td>57.0</td>\n",
       "      <td>168.0</td>\n",
       "      <td>0.99490</td>\n",
       "      <td>3.15</td>\n",
       "      <td>0.46</td>\n",
       "      <td>9.6</td>\n",
       "      <td>5</td>\n",
       "    </tr>\n",
       "    <tr>\n",
       "      <th>6494</th>\n",
       "      <td>6.5</td>\n",
       "      <td>0.24</td>\n",
       "      <td>0.19</td>\n",
       "      <td>1.2</td>\n",
       "      <td>0.041</td>\n",
       "      <td>30.0</td>\n",
       "      <td>111.0</td>\n",
       "      <td>0.99254</td>\n",
       "      <td>2.99</td>\n",
       "      <td>0.46</td>\n",
       "      <td>9.4</td>\n",
       "      <td>6</td>\n",
       "    </tr>\n",
       "    <tr>\n",
       "      <th>6495</th>\n",
       "      <td>5.5</td>\n",
       "      <td>0.29</td>\n",
       "      <td>0.30</td>\n",
       "      <td>1.1</td>\n",
       "      <td>0.022</td>\n",
       "      <td>20.0</td>\n",
       "      <td>110.0</td>\n",
       "      <td>0.98869</td>\n",
       "      <td>3.34</td>\n",
       "      <td>0.38</td>\n",
       "      <td>12.8</td>\n",
       "      <td>7</td>\n",
       "    </tr>\n",
       "    <tr>\n",
       "      <th>6496</th>\n",
       "      <td>6.0</td>\n",
       "      <td>0.21</td>\n",
       "      <td>0.38</td>\n",
       "      <td>0.8</td>\n",
       "      <td>0.020</td>\n",
       "      <td>22.0</td>\n",
       "      <td>98.0</td>\n",
       "      <td>0.98941</td>\n",
       "      <td>3.26</td>\n",
       "      <td>0.32</td>\n",
       "      <td>11.8</td>\n",
       "      <td>6</td>\n",
       "    </tr>\n",
       "  </tbody>\n",
       "</table>\n",
       "<p>6497 rows × 12 columns</p>\n",
       "</div>"
      ],
      "text/plain": [
       "        FA    VA    CA   RS     CH   FSD    TSD       DE    PH    SU    AL  QU\n",
       "0      7.4  0.70  0.00  1.9  0.076  11.0   34.0  0.99780  3.51  0.56   9.4   5\n",
       "1      7.8  0.88  0.00  2.6  0.098  25.0   67.0  0.99680  3.20  0.68   9.8   5\n",
       "2      7.8  0.76  0.04  2.3  0.092  15.0   54.0  0.99700  3.26  0.65   9.8   5\n",
       "3     11.2  0.28  0.56  1.9  0.075  17.0   60.0  0.99800  3.16  0.58   9.8   6\n",
       "4      7.4  0.70  0.00  1.9  0.076  11.0   34.0  0.99780  3.51  0.56   9.4   5\n",
       "...    ...   ...   ...  ...    ...   ...    ...      ...   ...   ...   ...  ..\n",
       "6492   6.2  0.21  0.29  1.6  0.039  24.0   92.0  0.99114  3.27  0.50  11.2   6\n",
       "6493   6.6  0.32  0.36  8.0  0.047  57.0  168.0  0.99490  3.15  0.46   9.6   5\n",
       "6494   6.5  0.24  0.19  1.2  0.041  30.0  111.0  0.99254  2.99  0.46   9.4   6\n",
       "6495   5.5  0.29  0.30  1.1  0.022  20.0  110.0  0.98869  3.34  0.38  12.8   7\n",
       "6496   6.0  0.21  0.38  0.8  0.020  22.0   98.0  0.98941  3.26  0.32  11.8   6\n",
       "\n",
       "[6497 rows x 12 columns]"
      ]
     },
     "execution_count": 1,
     "metadata": {},
     "output_type": "execute_result"
    }
   ],
   "source": [
    "import pandas as pd\n",
    "\n",
    "#Carga de dataset 'vino rojo' \n",
    "dfwiner = pd.read_csv(r'C:/Users/vicos/Documents/winequality-red.csv',delimiter=\";\",\n",
    "                      #Tipo de datos en cada columna\n",
    "                      dtype={\n",
    "                          'fixed acidity': float,\n",
    "                          'volatile acidity': float,\n",
    "                          'citric acid': float,\n",
    "                          'residual sugar': float,\n",
    "                          'chlorides': float,\n",
    "                          'free sulfur dioxide': float,\n",
    "                          'total sulfur dioxide': float,\n",
    "                          'density': float,\n",
    "                          'pH': float,\n",
    "                          'sulphates': float,\n",
    "                          'alcohol': float,\n",
    "                          'quality': int,\n",
    "                      })\n",
    "\n",
    "#Carga de dataset 'vino blanco' \n",
    "dfwinew = pd.read_csv(r'C:/Users/vicos/Documents/winequality-white.csv',delimiter=\";\",\n",
    "                      #Tipo de datos en cada columna\n",
    "                      dtype={\n",
    "                          'fixed acidity': float,\n",
    "                          'volatile acidity': float,\n",
    "                          'citric acid': float,\n",
    "                          'residual sugar': float,\n",
    "                          'chlorides': float,\n",
    "                          'free sulfur dioxide': float,\n",
    "                          'total sulfur dioxide': float,\n",
    "                          'density': float,\n",
    "                          'pH': float,\n",
    "                          'sulphates': float,\n",
    "                          'alcohol': float,\n",
    "                          'quality': int,\n",
    "                      })\n",
    "\n",
    "# Crear columnas con string constante en cada fila\n",
    "dfwiner['type']='red'\n",
    "dfwinew['type']='white'\n",
    "\n",
    "dfwineall = pd.concat([dfwiner,dfwinew],ignore_index=True)\n",
    "dfwineall = dfwineall.drop(columns=[\"type\"])\n",
    "\n",
    "# Renombramos los nombres de las variables para facilitar su representación visual\n",
    "dfwineall.rename(\n",
    "    columns={\"fixed acidity\": \"FA\",\n",
    "            \"volatile acidity\": \"VA\",\n",
    "             \"citric acid\": \"CA\",\n",
    "             \"residual sugar\": \"RS\",\n",
    "             \"chlorides\": \"CH\",\n",
    "             \"free sulfur dioxide\": \"FSD\",\n",
    "             \"total sulfur dioxide\": \"TSD\",\n",
    "             \"density\": \"DE\",\n",
    "             \"pH\": \"PH\",\n",
    "             \"sulphates\": \"SU\",\n",
    "             \"alcohol\": \"AL\",\n",
    "             \"quality\": \"QU\"},\n",
    "    inplace=True,\n",
    ")\n",
    "\n",
    "dfwineall"
   ]
  },
  {
   "attachments": {},
   "cell_type": "markdown",
   "metadata": {},
   "source": [
    "Se puede observar que el rango de datos es muy amplio o pequeño de acuerdo a la variable que estemos manejando, por lo que será necesario escalar los datos con el fin de facilitar el análisis."
   ]
  },
  {
   "cell_type": "code",
   "execution_count": 2,
   "metadata": {},
   "outputs": [
    {
     "data": {
      "text/html": [
       "<div>\n",
       "<style scoped>\n",
       "    .dataframe tbody tr th:only-of-type {\n",
       "        vertical-align: middle;\n",
       "    }\n",
       "\n",
       "    .dataframe tbody tr th {\n",
       "        vertical-align: top;\n",
       "    }\n",
       "\n",
       "    .dataframe thead th {\n",
       "        text-align: right;\n",
       "    }\n",
       "</style>\n",
       "<table border=\"1\" class=\"dataframe\">\n",
       "  <thead>\n",
       "    <tr style=\"text-align: right;\">\n",
       "      <th></th>\n",
       "      <th>FA</th>\n",
       "      <th>VA</th>\n",
       "      <th>CA</th>\n",
       "      <th>RS</th>\n",
       "      <th>CH</th>\n",
       "      <th>FSD</th>\n",
       "      <th>TSD</th>\n",
       "      <th>DE</th>\n",
       "      <th>PH</th>\n",
       "      <th>SU</th>\n",
       "      <th>AL</th>\n",
       "      <th>QU</th>\n",
       "    </tr>\n",
       "  </thead>\n",
       "  <tbody>\n",
       "    <tr>\n",
       "      <th>0</th>\n",
       "      <td>0.142473</td>\n",
       "      <td>2.188833</td>\n",
       "      <td>-2.192833</td>\n",
       "      <td>-0.744778</td>\n",
       "      <td>0.569958</td>\n",
       "      <td>-1.100140</td>\n",
       "      <td>-1.446359</td>\n",
       "      <td>1.034993</td>\n",
       "      <td>1.813090</td>\n",
       "      <td>0.193097</td>\n",
       "      <td>-0.915464</td>\n",
       "      <td>-0.937230</td>\n",
       "    </tr>\n",
       "    <tr>\n",
       "      <th>1</th>\n",
       "      <td>0.451036</td>\n",
       "      <td>3.282235</td>\n",
       "      <td>-2.192833</td>\n",
       "      <td>-0.597640</td>\n",
       "      <td>1.197975</td>\n",
       "      <td>-0.311320</td>\n",
       "      <td>-0.862469</td>\n",
       "      <td>0.701486</td>\n",
       "      <td>-0.115073</td>\n",
       "      <td>0.999579</td>\n",
       "      <td>-0.580068</td>\n",
       "      <td>-0.937230</td>\n",
       "    </tr>\n",
       "    <tr>\n",
       "      <th>2</th>\n",
       "      <td>0.451036</td>\n",
       "      <td>2.553300</td>\n",
       "      <td>-1.917553</td>\n",
       "      <td>-0.660699</td>\n",
       "      <td>1.026697</td>\n",
       "      <td>-0.874763</td>\n",
       "      <td>-1.092486</td>\n",
       "      <td>0.768188</td>\n",
       "      <td>0.258120</td>\n",
       "      <td>0.797958</td>\n",
       "      <td>-0.580068</td>\n",
       "      <td>-0.937230</td>\n",
       "    </tr>\n",
       "    <tr>\n",
       "      <th>3</th>\n",
       "      <td>3.073817</td>\n",
       "      <td>-0.362438</td>\n",
       "      <td>1.661085</td>\n",
       "      <td>-0.744778</td>\n",
       "      <td>0.541412</td>\n",
       "      <td>-0.762074</td>\n",
       "      <td>-0.986324</td>\n",
       "      <td>1.101694</td>\n",
       "      <td>-0.363868</td>\n",
       "      <td>0.327510</td>\n",
       "      <td>-0.580068</td>\n",
       "      <td>0.207999</td>\n",
       "    </tr>\n",
       "    <tr>\n",
       "      <th>4</th>\n",
       "      <td>0.142473</td>\n",
       "      <td>2.188833</td>\n",
       "      <td>-2.192833</td>\n",
       "      <td>-0.744778</td>\n",
       "      <td>0.569958</td>\n",
       "      <td>-1.100140</td>\n",
       "      <td>-1.446359</td>\n",
       "      <td>1.034993</td>\n",
       "      <td>1.813090</td>\n",
       "      <td>0.193097</td>\n",
       "      <td>-0.915464</td>\n",
       "      <td>-0.937230</td>\n",
       "    </tr>\n",
       "    <tr>\n",
       "      <th>...</th>\n",
       "      <td>...</td>\n",
       "      <td>...</td>\n",
       "      <td>...</td>\n",
       "      <td>...</td>\n",
       "      <td>...</td>\n",
       "      <td>...</td>\n",
       "      <td>...</td>\n",
       "      <td>...</td>\n",
       "      <td>...</td>\n",
       "      <td>...</td>\n",
       "      <td>...</td>\n",
       "      <td>...</td>\n",
       "    </tr>\n",
       "    <tr>\n",
       "      <th>6492</th>\n",
       "      <td>-0.783214</td>\n",
       "      <td>-0.787650</td>\n",
       "      <td>-0.197054</td>\n",
       "      <td>-0.807837</td>\n",
       "      <td>-0.486252</td>\n",
       "      <td>-0.367664</td>\n",
       "      <td>-0.420128</td>\n",
       "      <td>-1.186161</td>\n",
       "      <td>0.320319</td>\n",
       "      <td>-0.210144</td>\n",
       "      <td>0.593818</td>\n",
       "      <td>0.207999</td>\n",
       "    </tr>\n",
       "    <tr>\n",
       "      <th>6493</th>\n",
       "      <td>-0.474652</td>\n",
       "      <td>-0.119460</td>\n",
       "      <td>0.284686</td>\n",
       "      <td>0.537425</td>\n",
       "      <td>-0.257883</td>\n",
       "      <td>1.491697</td>\n",
       "      <td>0.924588</td>\n",
       "      <td>0.067824</td>\n",
       "      <td>-0.426067</td>\n",
       "      <td>-0.478971</td>\n",
       "      <td>-0.747766</td>\n",
       "      <td>-0.937230</td>\n",
       "    </tr>\n",
       "    <tr>\n",
       "      <th>6494</th>\n",
       "      <td>-0.551792</td>\n",
       "      <td>-0.605417</td>\n",
       "      <td>-0.885253</td>\n",
       "      <td>-0.891916</td>\n",
       "      <td>-0.429160</td>\n",
       "      <td>-0.029599</td>\n",
       "      <td>-0.083949</td>\n",
       "      <td>-0.719251</td>\n",
       "      <td>-1.421248</td>\n",
       "      <td>-0.478971</td>\n",
       "      <td>-0.915464</td>\n",
       "      <td>0.207999</td>\n",
       "    </tr>\n",
       "    <tr>\n",
       "      <th>6495</th>\n",
       "      <td>-1.323198</td>\n",
       "      <td>-0.301694</td>\n",
       "      <td>-0.128234</td>\n",
       "      <td>-0.912936</td>\n",
       "      <td>-0.971538</td>\n",
       "      <td>-0.593041</td>\n",
       "      <td>-0.101642</td>\n",
       "      <td>-2.003251</td>\n",
       "      <td>0.755710</td>\n",
       "      <td>-1.016626</td>\n",
       "      <td>1.935402</td>\n",
       "      <td>1.353228</td>\n",
       "    </tr>\n",
       "    <tr>\n",
       "      <th>6496</th>\n",
       "      <td>-0.937495</td>\n",
       "      <td>-0.787650</td>\n",
       "      <td>0.422326</td>\n",
       "      <td>-0.975995</td>\n",
       "      <td>-1.028631</td>\n",
       "      <td>-0.480353</td>\n",
       "      <td>-0.313966</td>\n",
       "      <td>-1.763127</td>\n",
       "      <td>0.258120</td>\n",
       "      <td>-1.419867</td>\n",
       "      <td>1.096912</td>\n",
       "      <td>0.207999</td>\n",
       "    </tr>\n",
       "  </tbody>\n",
       "</table>\n",
       "<p>6497 rows × 12 columns</p>\n",
       "</div>"
      ],
      "text/plain": [
       "            FA        VA        CA        RS        CH       FSD       TSD  \\\n",
       "0     0.142473  2.188833 -2.192833 -0.744778  0.569958 -1.100140 -1.446359   \n",
       "1     0.451036  3.282235 -2.192833 -0.597640  1.197975 -0.311320 -0.862469   \n",
       "2     0.451036  2.553300 -1.917553 -0.660699  1.026697 -0.874763 -1.092486   \n",
       "3     3.073817 -0.362438  1.661085 -0.744778  0.541412 -0.762074 -0.986324   \n",
       "4     0.142473  2.188833 -2.192833 -0.744778  0.569958 -1.100140 -1.446359   \n",
       "...        ...       ...       ...       ...       ...       ...       ...   \n",
       "6492 -0.783214 -0.787650 -0.197054 -0.807837 -0.486252 -0.367664 -0.420128   \n",
       "6493 -0.474652 -0.119460  0.284686  0.537425 -0.257883  1.491697  0.924588   \n",
       "6494 -0.551792 -0.605417 -0.885253 -0.891916 -0.429160 -0.029599 -0.083949   \n",
       "6495 -1.323198 -0.301694 -0.128234 -0.912936 -0.971538 -0.593041 -0.101642   \n",
       "6496 -0.937495 -0.787650  0.422326 -0.975995 -1.028631 -0.480353 -0.313966   \n",
       "\n",
       "            DE        PH        SU        AL        QU  \n",
       "0     1.034993  1.813090  0.193097 -0.915464 -0.937230  \n",
       "1     0.701486 -0.115073  0.999579 -0.580068 -0.937230  \n",
       "2     0.768188  0.258120  0.797958 -0.580068 -0.937230  \n",
       "3     1.101694 -0.363868  0.327510 -0.580068  0.207999  \n",
       "4     1.034993  1.813090  0.193097 -0.915464 -0.937230  \n",
       "...        ...       ...       ...       ...       ...  \n",
       "6492 -1.186161  0.320319 -0.210144  0.593818  0.207999  \n",
       "6493  0.067824 -0.426067 -0.478971 -0.747766 -0.937230  \n",
       "6494 -0.719251 -1.421248 -0.478971 -0.915464  0.207999  \n",
       "6495 -2.003251  0.755710 -1.016626  1.935402  1.353228  \n",
       "6496 -1.763127  0.258120 -1.419867  1.096912  0.207999  \n",
       "\n",
       "[6497 rows x 12 columns]"
      ]
     },
     "execution_count": 2,
     "metadata": {},
     "output_type": "execute_result"
    }
   ],
   "source": [
    "from sklearn import preprocessing\n",
    "\n",
    "# Datos escalados\n",
    "dfwineall_scaled = preprocessing.StandardScaler().fit_transform(dfwineall)\n",
    "dfwineall_scaled = pd.DataFrame(dfwineall_scaled) \n",
    "dfwineall_scaled = dfwineall_scaled.rename(columns = {0:'FA',1: 'VA', 2:'CA',3:'RS',4:'CH',5:'FSD',6:'TSD',7:'DE',8:'PH',9:'SU',10:'AL',11:'QU'})\n",
    "dfwineall_scaled"
   ]
  },
  {
   "attachments": {},
   "cell_type": "markdown",
   "metadata": {},
   "source": [
    "### **DBSCAN**\n",
    "\n",
    "DBSCAN (_Density-based spatial clustering of applications with noise_) es un algoritmo no supervisado que modela clusters con una alta densidad de puntos, para ello se apoya de un _radio epsilon_, el cuál definirá el tamaño de la vecindad alrededor de cada uno de los puntos, y una _cota mínima de puntos_ para cada vecindad. \n",
    "Aquellos puntos que dentro de su vecindad contengan esa cantidad mínima de puntos establecida se considerarán **puntos centrales**, mientras que los que no cumplan con la cota pero contengan al menos un punto central en su vecindad son considerados **puntos fronterizos**.\n",
    "\n",
    "**Notas**: \n",
    "- El resto de puntos que no caen dentro de estas dos categorías son considerados ruido u outliers del conjunto de datos. \n",
    "- La función de distancia entre puntos es seleccionada por el investigador, en este caso, se tomará la distancia euclideana.\n",
    "\n",
    "DBSCAN es considerado un algoritmo útil para la detección de outliers. Para ejemplo, revisemos su aplicación para las variables \"alcohol\" y \"quality\", teniendo presente que la variable alcohol tuvo un buen desempeño en los [indicadores de selección de características](https://github.com/VicoSan07/AprendizajeAutomatico/blob/main/ActividadyTarea04_AA_2023.ipynb) "
   ]
  },
  {
   "cell_type": "code",
   "execution_count": 10,
   "metadata": {},
   "outputs": [
    {
     "data": {
      "image/png": "[encoded data removed]",
      "text/plain": [
       "<Figure size 640x480 with 1 Axes>"
      ]
     },
     "metadata": {},
     "output_type": "display_data"
    }
   ],
   "source": [
    "from sklearn.cluster import DBSCAN\n",
    "import matplotlib.pyplot as plt\n",
    "\n",
    "X=dfwineall\n",
    "X_s=dfwineall_scaled\n",
    "\n",
    "# Seleccionamos las variables Alcohol y Calidad\n",
    "X1_s = X_s[[\"AL\",\"QU\"]]\n",
    "X1 = X[[\"AL\",\"QU\"]]\n",
    "\n",
    "model_dbscan1 = DBSCAN(eps=0.5, min_samples = 5, metric = \"euclidean\").fit(X1_s)\n",
    "res_clusters1 = model_dbscan1.fit_predict(X1_s)\n",
    "\n",
    "from matplotlib import rc\n",
    "\n",
    "rc('font', **{'family': 'serif', 'serif': ['Computer Modern']})\n",
    "rc('text', usetex=True)\n",
    "\n",
    "# Grafica\n",
    "plt.figure()\n",
    "plt.scatter(X1.values[:, 1], X1.values[:, 0], c=res_clusters1, cmap=\"plasma\")\n",
    "plt.xlabel(\"Quality\")\n",
    "plt.ylabel(\"Alcohol\")\n",
    "#plt.title('DBSCAN Results')\n",
    "#plt.savefig('dbscan_alqu.png',dpi=400)\n",
    "plt.show()"
   ]
  },
  {
   "cell_type": "code",
   "execution_count": 11,
   "metadata": {},
   "outputs": [
    {
     "name": "stdout",
     "output_type": "stream",
     "text": [
      "Se han generado  7  clusters\n"
     ]
    }
   ],
   "source": [
    "import numpy as np \n",
    "\n",
    "# Clusters generados\n",
    "#np.unique(modelo_dbscan1.labels_)\n",
    "n_clusters1 = len(set(model_dbscan1.labels_)) - (1 if -1 in model_dbscan1.labels_ else 0)\n",
    "print('Se han generado ',n_clusters1,' clusters')"
   ]
  },
  {
   "cell_type": "code",
   "execution_count": 12,
   "metadata": {},
   "outputs": [
    {
     "name": "stdout",
     "output_type": "stream",
     "text": [
      "Se han identificado  13  outliers a partir del DBSCAN\n"
     ]
    }
   ],
   "source": [
    "# Outliers identificados\n",
    "print('Se han identificado ',len(X1[model_dbscan1.labels_==-1]),' outliers a partir del DBSCAN')"
   ]
  },
  {
   "attachments": {},
   "cell_type": "markdown",
   "metadata": {},
   "source": [
    "Del gráfico anterior, se identifican la existencia de *13 outliers* (identificados en color azul), en base a los parámetros elegidos para el modelo, además se han generado 7 clústers. Para esta primera aplicación se ha decidido seleccionar de forma arbitraria los parámetros, sin embargo, en la practica se recomienda utilizar algún modelo o criterio razonable para su elección"
   ]
  },
  {
   "attachments": {},
   "cell_type": "markdown",
   "metadata": {},
   "source": [
    "### **Selección de parámetros**"
   ]
  },
  {
   "attachments": {},
   "cell_type": "markdown",
   "metadata": {},
   "source": [
    "Una manera de seleccionar el valor epsilon del modelo, se da a tráves del uso del método _K-Nearest Neighbors_ (Sharma, 2017), un algoritmo no parametrico cuyo objetivo es encontrar el promedio de distancias para cada punto a sus K vecinos más cercanos, para posteriormente seleccionar la distancia a la que ocurre la curvatura máxima. "
   ]
  },
  {
   "cell_type": "code",
   "execution_count": 13,
   "metadata": {},
   "outputs": [
    {
     "data": {
      "image/png": "[encoded data removed]",
      "text/plain": [
       "<Figure size 640x480 with 1 Axes>"
      ]
     },
     "metadata": {},
     "output_type": "display_data"
    }
   ],
   "source": [
    "from sklearn.neighbors import NearestNeighbors\n",
    "\n",
    "# Algoritmo KNN\n",
    "modelNN1 = NearestNeighbors(n_neighbors=5)\n",
    "modelNN1.fit(X1_s)\n",
    "distances, indices = modelNN1.kneighbors(X1_s)\n",
    "distances = np.sort(distances, axis=0)[:, 1]\n",
    "plt.plot(distances,color='#FF4633')\n",
    "plt.show()"
   ]
  },
  {
   "attachments": {},
   "cell_type": "markdown",
   "metadata": {},
   "source": [
    "Como podemos observar, el épsilon predeterminado se encuentra por debajo de 0.2"
   ]
  },
  {
   "cell_type": "code",
   "execution_count": 14,
   "metadata": {},
   "outputs": [
    {
     "data": {
      "image/png": "[encoded data removed]",
      "text/plain": [
       "<Figure size 640x480 with 1 Axes>"
      ]
     },
     "metadata": {},
     "output_type": "display_data"
    }
   ],
   "source": [
    "import matplotlib.pyplot as plt\n",
    "import matplotlib\n",
    "\n",
    "model_dbscan2 = DBSCAN(eps=0.2, min_samples = 5, metric = \"euclidean\").fit(X1_s)\n",
    "res_clusters2 = model_dbscan2.fit_predict(X1_s)\n",
    "\n",
    "# Grafica\n",
    "plt.figure()\n",
    "plt.scatter(X1.values[:, 1], X1.values[:, 0], c=res_clusters2, cmap=\"plasma\")\n",
    "plt.xlabel(\"Quality\")\n",
    "plt.ylabel(\"Alcohol\")\n",
    "plt.title('DBSCAN Results')\n",
    "plt.show()\n"
   ]
  },
  {
   "cell_type": "code",
   "execution_count": 11,
   "metadata": {},
   "outputs": [
    {
     "name": "stdout",
     "output_type": "stream",
     "text": [
      "Se han generado  9  clusters\n"
     ]
    }
   ],
   "source": [
    "# Clusters generados\n",
    "n_clusters2 = len(set(model_dbscan2.labels_)) - (1 if -1 in model_dbscan2.labels_ else 0)\n",
    "print('Se han generado ',n_clusters2,' clusters')"
   ]
  },
  {
   "cell_type": "code",
   "execution_count": 12,
   "metadata": {},
   "outputs": [
    {
     "name": "stdout",
     "output_type": "stream",
     "text": [
      "Se han identificado  34  outliers a partir del DBSCAN\n"
     ]
    }
   ],
   "source": [
    "# Outliers identificados\n",
    "print('Se han identificado ',len(X1[model_dbscan2.labels_==-1]),' outliers a partir del DBSCAN')"
   ]
  },
  {
   "attachments": {},
   "cell_type": "markdown",
   "metadata": {},
   "source": [
    "En esta segunda ronda podemos observar que al disminuir el radio de la vecindad, los clusteres han aumentado, así como la cantidad de valores atípicos. En este caso, al ser la calidad una variable discreta, podemos ver que se están generando al menos un clúster por calificación"
   ]
  },
  {
   "attachments": {},
   "cell_type": "markdown",
   "metadata": {},
   "source": [
    "### **Extensión Completa**"
   ]
  },
  {
   "attachments": {},
   "cell_type": "markdown",
   "metadata": {},
   "source": [
    "En la sección anterior, se presentó de manera aislada el DBSCAN para las variables alcohol y calidad, con el objetivo de analizar visualmente los clústers, sin embargo, el algoritmo puede ser aplicado al conjunto de datos completo, como se presenta a continuación:"
   ]
  },
  {
   "cell_type": "code",
   "execution_count": 15,
   "metadata": {},
   "outputs": [
    {
     "data": {
      "image/png": "[encoded data removed]",
      "text/plain": [
       "<Figure size 640x480 with 1 Axes>"
      ]
     },
     "metadata": {},
     "output_type": "display_data"
    }
   ],
   "source": [
    "# Algoritmo KNN\n",
    "modelNNX = NearestNeighbors(n_neighbors=5)\n",
    "modelNNX.fit(X_s)\n",
    "distances, indices = modelNNX.kneighbors(X_s)\n",
    "distances = np.sort(distances, axis=0)[:, 1]\n",
    "plt.plot(distances,color='#FF4633')\n",
    "plt.show()"
   ]
  },
  {
   "attachments": {},
   "cell_type": "markdown",
   "metadata": {},
   "source": [
    "Épsilon entre 2 y 4 de acuerdo al algoritmo KNN, consideremos un valor de 3"
   ]
  },
  {
   "cell_type": "code",
   "execution_count": 17,
   "metadata": {},
   "outputs": [],
   "source": [
    "# DBSCAN para todo el conjunto\n",
    "model_dbscanX = DBSCAN(eps=3, min_samples = 5, metric = \"euclidean\").fit(X_s)"
   ]
  },
  {
   "cell_type": "code",
   "execution_count": 18,
   "metadata": {},
   "outputs": [
    {
     "name": "stdout",
     "output_type": "stream",
     "text": [
      "Se han generado  2  clusters\n"
     ]
    }
   ],
   "source": [
    "# Clusters generados\n",
    "n_clustersX = len(set(model_dbscanX.labels_)) - (1 if -1 in model_dbscanX.labels_ else 0)\n",
    "print('Se han generado ',n_clustersX,' clusters')"
   ]
  },
  {
   "cell_type": "code",
   "execution_count": 19,
   "metadata": {},
   "outputs": [
    {
     "name": "stdout",
     "output_type": "stream",
     "text": [
      "Se han identificado  40  outliers a partir del DBSCAN\n"
     ]
    }
   ],
   "source": [
    "# Outliers identificados\n",
    "print('Se han identificado ',len(X[model_dbscanX.labels_==-1]),' outliers a partir del DBSCAN')"
   ]
  },
  {
   "attachments": {},
   "cell_type": "markdown",
   "metadata": {},
   "source": [
    "El modelo ha formado 2 clústers y ha identificado 40 outliers a partir de un épsilon de 3 y una cantidad mínima de 5 puntos por vecindad. Estos puntos atípicos pueden ser eliminados del total de la muestra como paso previo a probar algoritmos de predicción, tales como regresiones."
   ]
  },
  {
   "attachments": {},
   "cell_type": "markdown",
   "metadata": {},
   "source": [
    "### **Uso del DBSCAN bajo un PCA**"
   ]
  },
  {
   "attachments": {},
   "cell_type": "markdown",
   "metadata": {},
   "source": [
    "PCA (_Principal Component Analysis_) es un método de aprendizaje no supervisado utilizado en espacios de alta dimensión, el cuál busca reducir la complejidad de los datos mientras a su vez conservar la mayor parte de la información. \n",
    "\n",
    "Por lo que la pregunta es: ¿Qué resultado tendríamos si utilizamos PCA en los datos y posteriormente aplicamos el algoritmo DBSCAN?"
   ]
  },
  {
   "cell_type": "code",
   "execution_count": 20,
   "metadata": {},
   "outputs": [
    {
     "name": "stdout",
     "output_type": "stream",
     "text": [
      "[0.25346226 0.47428343 0.61107566 0.70012777 0.77016947 0.82520274\n",
      " 0.87218827 0.91518684 0.95338453 0.97830228 0.9972679  1.        ]\n"
     ]
    }
   ],
   "source": [
    "from sklearn.decomposition import PCA\n",
    "\n",
    "# PCA modelo\n",
    "modelPCA = PCA(n_components = None)\n",
    "X_PCA = modelPCA.fit_transform(X_s)\n",
    "explained_variance = modelPCA.explained_variance_ratio_\n",
    "cum_explained_variance = np.cumsum(explained_variance)\n",
    "\n",
    "# Varianzas explicadas por componentes\n",
    "print(cum_explained_variance)"
   ]
  },
  {
   "cell_type": "code",
   "execution_count": 22,
   "metadata": {},
   "outputs": [
    {
     "data": {
      "image/png": "[encoded data removed]",
      "text/plain": [
       "<Figure size 640x480 with 1 Axes>"
      ]
     },
     "metadata": {},
     "output_type": "display_data"
    }
   ],
   "source": [
    "# Gráfico\n",
    "plt.bar(range(1, len(explained_variance)+1), explained_variance, alpha=0.75, align='center',label='IEV',color='#FF4633')\n",
    "plt.step(range(1, len(explained_variance)+1), cum_explained_variance, where='mid',label='CEV',color='blue')\n",
    "plt.ylim(0, 1.1)\n",
    "plt.xlabel('Principal components')\n",
    "plt.ylabel('EV')\n",
    "plt.legend(loc='best')\n",
    "#plt.savefig(\"PCA_6.png\",dpi=200)\n",
    "plt.show()"
   ]
  },
  {
   "attachments": {},
   "cell_type": "markdown",
   "metadata": {},
   "source": [
    "Si bien existen varios criterios distintos para seleccionar el número de componentes, hay dos de ellos que son muy populares:\n",
    "\n",
    "1. Seleccionar el número de componentes mínimo a partir del cual el incremento de la varianza acumulada deja de ser sustancial\n",
    "2. Tomar los primeros k componentes que capturan al menos el 80% de la suma total de la varianza.\n",
    "\n",
    "Consideremos 6 componentes con un 82% de la varianza explicada"
   ]
  },
  {
   "cell_type": "code",
   "execution_count": 23,
   "metadata": {},
   "outputs": [
    {
     "data": {
      "image/png": "[encoded data removed]",
      "text/plain": [
       "<Figure size 640x480 with 1 Axes>"
      ]
     },
     "metadata": {},
     "output_type": "display_data"
    }
   ],
   "source": [
    "X_PCA = pd.DataFrame(X_PCA)\n",
    "X_PCA_6 = X_PCA.iloc[:,0:6]\n",
    "\n",
    "# Algoritmo KNN\n",
    "modelNNXPCA = NearestNeighbors(n_neighbors=6)\n",
    "modelNNXPCA.fit(X_PCA_6)\n",
    "distances, indices = modelNNXPCA.kneighbors(X_PCA_6)\n",
    "distances = np.sort(distances, axis=0)[:, 1]\n",
    "plt.plot(distances,color='#FF4633')\n",
    "plt.show()"
   ]
  },
  {
   "cell_type": "code",
   "execution_count": 24,
   "metadata": {},
   "outputs": [],
   "source": [
    "# DBSCAN para todo el conjunto\n",
    "model_dbscanXPCA = DBSCAN(eps=1.5, min_samples = 5, metric = \"euclidean\").fit(X_PCA_6)"
   ]
  },
  {
   "cell_type": "code",
   "execution_count": 25,
   "metadata": {},
   "outputs": [
    {
     "name": "stdout",
     "output_type": "stream",
     "text": [
      "Se han generado  2  clusters\n"
     ]
    }
   ],
   "source": [
    "# Clusters generados\n",
    "n_clustersXPCA = len(set(model_dbscanXPCA.labels_)) - (1 if -1 in model_dbscanXPCA.labels_ else 0)\n",
    "print('Se han generado ',n_clustersXPCA,' clusters')"
   ]
  },
  {
   "cell_type": "code",
   "execution_count": 26,
   "metadata": {},
   "outputs": [
    {
     "name": "stdout",
     "output_type": "stream",
     "text": [
      "Se han identificado  138  outliers a partir del DBSCAN\n"
     ]
    }
   ],
   "source": [
    "# Outliers identificados\n",
    "print('Se han identificado ',len(X_PCA_6[model_dbscanXPCA.labels_==-1]),' outliers a partir del DBSCAN')"
   ]
  },
  {
   "attachments": {},
   "cell_type": "markdown",
   "metadata": {},
   "source": [
    "Se logró reducir la dimensionalidad de los datos de 12 a 6, y el DBSCAN aplicado a esta nueva dimensionalidad ha generado 2 clústers y 138 outliers, el triple del obtenido bajo el uso del algoritmo para todos los datos originales."
   ]
  },
  {
   "cell_type": "code",
   "execution_count": 27,
   "metadata": {},
   "outputs": [],
   "source": [
    "model_dbscanTest2 = DBSCAN(eps=2, min_samples = 5, metric = \"euclidean\").fit(X_s)\n",
    "model_dbscanTest25 = DBSCAN(eps=2.5, min_samples = 5, metric = \"euclidean\").fit(X_s)\n",
    "model_dbscanTest3 = DBSCAN(eps=3, min_samples = 5, metric = \"euclidean\").fit(X_s)\n",
    "model_dbscanTest35 = DBSCAN(eps=3.5, min_samples = 5, metric = \"euclidean\").fit(X_s)\n",
    "model_dbscanTest4 = DBSCAN(eps=4, min_samples = 5, metric = \"euclidean\").fit(X_s)\n",
    "\n",
    "resp_dbscan = pd.DataFrame({'2.0': [len(set(model_dbscanTest2.labels_)) - (1 if -1 in model_dbscanTest2.labels_ else 0),\n",
    "                    len(X[model_dbscanTest2.labels_==-1])],\n",
    "                    '2.5': [len(set(model_dbscanTest25.labels_)) - (1 if -1 in model_dbscanTest25.labels_ else 0),\n",
    "                    len(X[model_dbscanTest25.labels_==-1])],\n",
    "                    '3.0':[len(set(model_dbscanTest3.labels_)) - (1 if -1 in model_dbscanTest3.labels_ else 0),\n",
    "                    len(X[model_dbscanTest3.labels_==-1])],\n",
    "                    '3.5':[len(set(model_dbscanTest35.labels_)) - (1 if -1 in model_dbscanTest35.labels_ else 0),\n",
    "                    len(X[model_dbscanTest35.labels_==-1])],\n",
    "                    '4':[len(set(model_dbscanTest4.labels_)) - (1 if -1 in model_dbscanTest4.labels_ else 0),\n",
    "                    len(X[model_dbscanTest4.labels_==-1])]  })\n",
    "\n",
    "resp_dbscan.rename(index= {0:'No. Clústers',1:'No. Outliers'}, inplace=True)"
   ]
  },
  {
   "attachments": {},
   "cell_type": "markdown",
   "metadata": {},
   "source": [
    "### **Resumen**"
   ]
  },
  {
   "cell_type": "code",
   "execution_count": 28,
   "metadata": {},
   "outputs": [
    {
     "data": {
      "text/html": [
       "<div>\n",
       "<style scoped>\n",
       "    .dataframe tbody tr th:only-of-type {\n",
       "        vertical-align: middle;\n",
       "    }\n",
       "\n",
       "    .dataframe tbody tr th {\n",
       "        vertical-align: top;\n",
       "    }\n",
       "\n",
       "    .dataframe thead th {\n",
       "        text-align: right;\n",
       "    }\n",
       "</style>\n",
       "<table border=\"1\" class=\"dataframe\">\n",
       "  <thead>\n",
       "    <tr style=\"text-align: right;\">\n",
       "      <th></th>\n",
       "      <th>2.0</th>\n",
       "      <th>2.5</th>\n",
       "      <th>3.0</th>\n",
       "      <th>3.5</th>\n",
       "      <th>4</th>\n",
       "    </tr>\n",
       "  </thead>\n",
       "  <tbody>\n",
       "    <tr>\n",
       "      <th>No. Clústers</th>\n",
       "      <td>4</td>\n",
       "      <td>2</td>\n",
       "      <td>2</td>\n",
       "      <td>1</td>\n",
       "      <td>1</td>\n",
       "    </tr>\n",
       "    <tr>\n",
       "      <th>No. Outliers</th>\n",
       "      <td>245</td>\n",
       "      <td>90</td>\n",
       "      <td>40</td>\n",
       "      <td>19</td>\n",
       "      <td>6</td>\n",
       "    </tr>\n",
       "  </tbody>\n",
       "</table>\n",
       "</div>"
      ],
      "text/plain": [
       "              2.0  2.5  3.0  3.5  4\n",
       "No. Clústers    4    2    2    1  1\n",
       "No. Outliers  245   90   40   19  6"
      ]
     },
     "execution_count": 28,
     "metadata": {},
     "output_type": "execute_result"
    }
   ],
   "source": [
    "resp_dbscan"
   ]
  },
  {
   "attachments": {},
   "cell_type": "markdown",
   "metadata": {},
   "source": [
    "Como se mencionó anteriormente, entre más grande sea el épsilon seleccionado del algoritmo, menor cantidad de clústers y outliers se generarán, al abarcar con dicho radio casi todos los puntos."
   ]
  }
 ],
 "metadata": {
  "kernelspec": {
   "display_name": "Python 3",
   "language": "python",
   "name": "python3"
  },
  "language_info": {
   "codemirror_mode": {
    "name": "ipython",
    "version": 3
   },
   "file_extension": ".py",
   "mimetype": "text/x-python",
   "name": "python",
   "nbconvert_exporter": "python",
   "pygments_lexer": "ipython3",
   "version": "3.10.10"
  },
  "orig_nbformat": 4,
  "vscode": {
   "interpreter": {
    "hash": "96748773c7e69786d6b782d7f74ae71633dcb1c0b499cdd27921b016107794e2"
   }
  }
 },
 "nbformat": 4,
 "nbformat_minor": 2
}
