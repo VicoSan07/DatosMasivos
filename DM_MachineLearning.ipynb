{
 "cells": [
  {
   "attachments": {},
   "cell_type": "markdown",
   "metadata": {},
   "source": [
    "# **Machine Learning**\n",
    "\n",
    "[Victor Sanchez](https://github.com/VicoSan07) <br>\n",
    "Dataset: [Anime List Dataset](https://www.kaggle.com/datasets/dbdmobile/myanimelist-dataset)"
   ]
  },
  {
   "attachments": {},
   "cell_type": "markdown",
   "metadata": {},
   "source": [
    "Esta práctica tiene como objetivo: utilizar y analizar los resultados obtenidos a tráves de distintos algoritmos no supervisados con el fin de agrupar datos, encontrar relaciones entre variables y posiblemente identificar outliers si el método lo permite."
   ]
  },
  {
   "attachments": {},
   "cell_type": "markdown",
   "metadata": {},
   "source": [
    "### **Carga de Dataset**"
   ]
  },
  {
   "cell_type": "code",
   "execution_count": 15,
   "metadata": {},
   "outputs": [
    {
     "data": {
      "text/html": [
       "<div>\n",
       "<style scoped>\n",
       "    .dataframe tbody tr th:only-of-type {\n",
       "        vertical-align: middle;\n",
       "    }\n",
       "\n",
       "    .dataframe tbody tr th {\n",
       "        vertical-align: top;\n",
       "    }\n",
       "\n",
       "    .dataframe thead th {\n",
       "        text-align: right;\n",
       "    }\n",
       "</style>\n",
       "<table border=\"1\" class=\"dataframe\">\n",
       "  <thead>\n",
       "    <tr style=\"text-align: right;\">\n",
       "      <th></th>\n",
       "      <th>anime_id</th>\n",
       "      <th>Name</th>\n",
       "      <th>Score</th>\n",
       "      <th>Genres</th>\n",
       "      <th>English name</th>\n",
       "      <th>Japanese name</th>\n",
       "      <th>sypnopsis</th>\n",
       "      <th>Type</th>\n",
       "      <th>Episodes</th>\n",
       "      <th>Aired</th>\n",
       "      <th>...</th>\n",
       "      <th>Duration</th>\n",
       "      <th>Rating</th>\n",
       "      <th>Ranked</th>\n",
       "      <th>Popularity</th>\n",
       "      <th>Members</th>\n",
       "      <th>Favorites</th>\n",
       "      <th>Watching</th>\n",
       "      <th>Completed</th>\n",
       "      <th>On-Hold</th>\n",
       "      <th>Dropped</th>\n",
       "    </tr>\n",
       "  </thead>\n",
       "  <tbody>\n",
       "    <tr>\n",
       "      <th>0</th>\n",
       "      <td>1</td>\n",
       "      <td>Cowboy Bebop</td>\n",
       "      <td>8.78</td>\n",
       "      <td>Action, Adventure, Comedy, Drama, Sci-Fi, Space</td>\n",
       "      <td>Cowboy Bebop</td>\n",
       "      <td>カウボーイビバップ</td>\n",
       "      <td>In the year 2071, humanity has colonized sever...</td>\n",
       "      <td>TV</td>\n",
       "      <td>26</td>\n",
       "      <td>Apr 3, 1998 to Apr 24, 1999</td>\n",
       "      <td>...</td>\n",
       "      <td>24 min. per ep.</td>\n",
       "      <td>R - 17+ (violence &amp; profanity)</td>\n",
       "      <td>28.0</td>\n",
       "      <td>39</td>\n",
       "      <td>1251960</td>\n",
       "      <td>61971</td>\n",
       "      <td>105808</td>\n",
       "      <td>718161</td>\n",
       "      <td>71513</td>\n",
       "      <td>26678</td>\n",
       "    </tr>\n",
       "    <tr>\n",
       "      <th>1</th>\n",
       "      <td>5</td>\n",
       "      <td>Cowboy Bebop: Tengoku no Tobira</td>\n",
       "      <td>8.39</td>\n",
       "      <td>Action, Drama, Mystery, Sci-Fi, Space</td>\n",
       "      <td>Cowboy Bebop:The Movie</td>\n",
       "      <td>カウボーイビバップ 天国の扉</td>\n",
       "      <td>other day, another bounty—such is the life of ...</td>\n",
       "      <td>Movie</td>\n",
       "      <td>1</td>\n",
       "      <td>Sep 1, 2001</td>\n",
       "      <td>...</td>\n",
       "      <td>1 hr. 55 min.</td>\n",
       "      <td>R - 17+ (violence &amp; profanity)</td>\n",
       "      <td>159.0</td>\n",
       "      <td>518</td>\n",
       "      <td>273145</td>\n",
       "      <td>1174</td>\n",
       "      <td>4143</td>\n",
       "      <td>208333</td>\n",
       "      <td>1935</td>\n",
       "      <td>770</td>\n",
       "    </tr>\n",
       "    <tr>\n",
       "      <th>2</th>\n",
       "      <td>6</td>\n",
       "      <td>Trigun</td>\n",
       "      <td>8.24</td>\n",
       "      <td>Action, Sci-Fi, Adventure, Comedy, Drama, Shounen</td>\n",
       "      <td>Trigun</td>\n",
       "      <td>トライガン</td>\n",
       "      <td>Vash the Stampede is the man with a $$60,000,0...</td>\n",
       "      <td>TV</td>\n",
       "      <td>26</td>\n",
       "      <td>Apr 1, 1998 to Sep 30, 1998</td>\n",
       "      <td>...</td>\n",
       "      <td>24 min. per ep.</td>\n",
       "      <td>PG-13 - Teens 13 or older</td>\n",
       "      <td>266.0</td>\n",
       "      <td>201</td>\n",
       "      <td>558913</td>\n",
       "      <td>12944</td>\n",
       "      <td>29113</td>\n",
       "      <td>343492</td>\n",
       "      <td>25465</td>\n",
       "      <td>13925</td>\n",
       "    </tr>\n",
       "    <tr>\n",
       "      <th>3</th>\n",
       "      <td>7</td>\n",
       "      <td>Witch Hunter Robin</td>\n",
       "      <td>7.27</td>\n",
       "      <td>Action, Mystery, Police, Supernatural, Drama, ...</td>\n",
       "      <td>Witch Hunter Robin</td>\n",
       "      <td>Witch Hunter ROBIN (ウイッチハンターロビン)</td>\n",
       "      <td>ches are individuals with special powers like ...</td>\n",
       "      <td>TV</td>\n",
       "      <td>26</td>\n",
       "      <td>Jul 2, 2002 to Dec 24, 2002</td>\n",
       "      <td>...</td>\n",
       "      <td>25 min. per ep.</td>\n",
       "      <td>PG-13 - Teens 13 or older</td>\n",
       "      <td>2481.0</td>\n",
       "      <td>1467</td>\n",
       "      <td>94683</td>\n",
       "      <td>587</td>\n",
       "      <td>4300</td>\n",
       "      <td>46165</td>\n",
       "      <td>5121</td>\n",
       "      <td>5378</td>\n",
       "    </tr>\n",
       "    <tr>\n",
       "      <th>4</th>\n",
       "      <td>8</td>\n",
       "      <td>Bouken Ou Beet</td>\n",
       "      <td>6.98</td>\n",
       "      <td>Adventure, Fantasy, Shounen, Supernatural</td>\n",
       "      <td>Beet the Vandel Buster</td>\n",
       "      <td>冒険王ビィト</td>\n",
       "      <td>It is the dark century and the people are suff...</td>\n",
       "      <td>TV</td>\n",
       "      <td>52</td>\n",
       "      <td>Sep 30, 2004 to Sep 29, 2005</td>\n",
       "      <td>...</td>\n",
       "      <td>23 min. per ep.</td>\n",
       "      <td>PG - Children</td>\n",
       "      <td>3710.0</td>\n",
       "      <td>4369</td>\n",
       "      <td>13224</td>\n",
       "      <td>18</td>\n",
       "      <td>642</td>\n",
       "      <td>7314</td>\n",
       "      <td>766</td>\n",
       "      <td>1108</td>\n",
       "    </tr>\n",
       "  </tbody>\n",
       "</table>\n",
       "<p>5 rows × 25 columns</p>\n",
       "</div>"
      ],
      "text/plain": [
       "   anime_id                             Name  Score  \\\n",
       "0         1                     Cowboy Bebop   8.78   \n",
       "1         5  Cowboy Bebop: Tengoku no Tobira   8.39   \n",
       "2         6                           Trigun   8.24   \n",
       "3         7               Witch Hunter Robin   7.27   \n",
       "4         8                   Bouken Ou Beet   6.98   \n",
       "\n",
       "                                              Genres            English name  \\\n",
       "0    Action, Adventure, Comedy, Drama, Sci-Fi, Space            Cowboy Bebop   \n",
       "1              Action, Drama, Mystery, Sci-Fi, Space  Cowboy Bebop:The Movie   \n",
       "2  Action, Sci-Fi, Adventure, Comedy, Drama, Shounen                  Trigun   \n",
       "3  Action, Mystery, Police, Supernatural, Drama, ...      Witch Hunter Robin   \n",
       "4          Adventure, Fantasy, Shounen, Supernatural  Beet the Vandel Buster   \n",
       "\n",
       "                      Japanese name  \\\n",
       "0                         カウボーイビバップ   \n",
       "1                    カウボーイビバップ 天国の扉   \n",
       "2                             トライガン   \n",
       "3  Witch Hunter ROBIN (ウイッチハンターロビン)   \n",
       "4                            冒険王ビィト   \n",
       "\n",
       "                                           sypnopsis   Type Episodes  \\\n",
       "0  In the year 2071, humanity has colonized sever...     TV       26   \n",
       "1  other day, another bounty—such is the life of ...  Movie        1   \n",
       "2  Vash the Stampede is the man with a $$60,000,0...     TV       26   \n",
       "3  ches are individuals with special powers like ...     TV       26   \n",
       "4  It is the dark century and the people are suff...     TV       52   \n",
       "\n",
       "                          Aired  ...         Duration  \\\n",
       "0   Apr 3, 1998 to Apr 24, 1999  ...  24 min. per ep.   \n",
       "1                   Sep 1, 2001  ...    1 hr. 55 min.   \n",
       "2   Apr 1, 1998 to Sep 30, 1998  ...  24 min. per ep.   \n",
       "3   Jul 2, 2002 to Dec 24, 2002  ...  25 min. per ep.   \n",
       "4  Sep 30, 2004 to Sep 29, 2005  ...  23 min. per ep.   \n",
       "\n",
       "                           Rating  Ranked Popularity  Members Favorites  \\\n",
       "0  R - 17+ (violence & profanity)    28.0         39  1251960     61971   \n",
       "1  R - 17+ (violence & profanity)   159.0        518   273145      1174   \n",
       "2       PG-13 - Teens 13 or older   266.0        201   558913     12944   \n",
       "3       PG-13 - Teens 13 or older  2481.0       1467    94683       587   \n",
       "4                   PG - Children  3710.0       4369    13224        18   \n",
       "\n",
       "  Watching  Completed  On-Hold  Dropped  \n",
       "0   105808     718161    71513    26678  \n",
       "1     4143     208333     1935      770  \n",
       "2    29113     343492    25465    13925  \n",
       "3     4300      46165     5121     5378  \n",
       "4      642       7314      766     1108  \n",
       "\n",
       "[5 rows x 25 columns]"
      ]
     },
     "execution_count": 15,
     "metadata": {},
     "output_type": "execute_result"
    }
   ],
   "source": [
    "import pandas as pd\n",
    "\n",
    "#Carga de dataset\n",
    "Anime_DB = pd.read_csv(r'C:/Users/vicos/Documents/anime-filtered.csv',delimiter=\",\")\n",
    "Anime_DB.head()"
   ]
  },
  {
   "cell_type": "code",
   "execution_count": 16,
   "metadata": {},
   "outputs": [],
   "source": [
    "#Se remueven los animes de tipo no identificado: 36 desconocidos\n",
    "indexType = Anime_DB[ Anime_DB['Episodes'] == 'Unknown'].index\n",
    "Anime_DB.drop(indexType , inplace=True)"
   ]
  },
  {
   "cell_type": "code",
   "execution_count": 17,
   "metadata": {},
   "outputs": [
    {
     "data": {
      "text/html": [
       "<div>\n",
       "<style scoped>\n",
       "    .dataframe tbody tr th:only-of-type {\n",
       "        vertical-align: middle;\n",
       "    }\n",
       "\n",
       "    .dataframe tbody tr th {\n",
       "        vertical-align: top;\n",
       "    }\n",
       "\n",
       "    .dataframe thead th {\n",
       "        text-align: right;\n",
       "    }\n",
       "</style>\n",
       "<table border=\"1\" class=\"dataframe\">\n",
       "  <thead>\n",
       "    <tr style=\"text-align: right;\">\n",
       "      <th></th>\n",
       "      <th>Episodes</th>\n",
       "      <th>Members</th>\n",
       "      <th>Favorites</th>\n",
       "      <th>Watching</th>\n",
       "      <th>Completed</th>\n",
       "      <th>Score</th>\n",
       "    </tr>\n",
       "  </thead>\n",
       "  <tbody>\n",
       "    <tr>\n",
       "      <th>0</th>\n",
       "      <td>26</td>\n",
       "      <td>1251960</td>\n",
       "      <td>61971</td>\n",
       "      <td>105808</td>\n",
       "      <td>718161</td>\n",
       "      <td>8.78</td>\n",
       "    </tr>\n",
       "    <tr>\n",
       "      <th>1</th>\n",
       "      <td>1</td>\n",
       "      <td>273145</td>\n",
       "      <td>1174</td>\n",
       "      <td>4143</td>\n",
       "      <td>208333</td>\n",
       "      <td>8.39</td>\n",
       "    </tr>\n",
       "    <tr>\n",
       "      <th>2</th>\n",
       "      <td>26</td>\n",
       "      <td>558913</td>\n",
       "      <td>12944</td>\n",
       "      <td>29113</td>\n",
       "      <td>343492</td>\n",
       "      <td>8.24</td>\n",
       "    </tr>\n",
       "    <tr>\n",
       "      <th>3</th>\n",
       "      <td>26</td>\n",
       "      <td>94683</td>\n",
       "      <td>587</td>\n",
       "      <td>4300</td>\n",
       "      <td>46165</td>\n",
       "      <td>7.27</td>\n",
       "    </tr>\n",
       "    <tr>\n",
       "      <th>4</th>\n",
       "      <td>52</td>\n",
       "      <td>13224</td>\n",
       "      <td>18</td>\n",
       "      <td>642</td>\n",
       "      <td>7314</td>\n",
       "      <td>6.98</td>\n",
       "    </tr>\n",
       "  </tbody>\n",
       "</table>\n",
       "</div>"
      ],
      "text/plain": [
       "  Episodes  Members  Favorites  Watching  Completed  Score\n",
       "0       26  1251960      61971    105808     718161   8.78\n",
       "1        1   273145       1174      4143     208333   8.39\n",
       "2       26   558913      12944     29113     343492   8.24\n",
       "3       26    94683        587      4300      46165   7.27\n",
       "4       52    13224         18       642       7314   6.98"
      ]
     },
     "execution_count": 17,
     "metadata": {},
     "output_type": "execute_result"
    }
   ],
   "source": [
    "#Se seleccionan variables de interés\n",
    "Anime_DB = Anime_DB[[\"Episodes\",\"Members\",\"Favorites\",\"Watching\",\"Completed\",\"Score\"]]\n",
    "Anime_DB.head()"
   ]
  },
  {
   "attachments": {},
   "cell_type": "markdown",
   "metadata": {},
   "source": [
    "Se puede observar que el rango de datos es muy amplio o pequeño de acuerdo a la variable que estemos manejando, por lo que será necesario escalar los datos con el fin de facilitar el análisis."
   ]
  },
  {
   "cell_type": "code",
   "execution_count": 18,
   "metadata": {},
   "outputs": [
    {
     "data": {
      "text/html": [
       "<div>\n",
       "<style scoped>\n",
       "    .dataframe tbody tr th:only-of-type {\n",
       "        vertical-align: middle;\n",
       "    }\n",
       "\n",
       "    .dataframe tbody tr th {\n",
       "        vertical-align: top;\n",
       "    }\n",
       "\n",
       "    .dataframe thead th {\n",
       "        text-align: right;\n",
       "    }\n",
       "</style>\n",
       "<table border=\"1\" class=\"dataframe\">\n",
       "  <thead>\n",
       "    <tr style=\"text-align: right;\">\n",
       "      <th></th>\n",
       "      <th>Episodes</th>\n",
       "      <th>Members</th>\n",
       "      <th>Favorites</th>\n",
       "      <th>Watching</th>\n",
       "      <th>Completed</th>\n",
       "      <th>Score</th>\n",
       "    </tr>\n",
       "  </thead>\n",
       "  <tbody>\n",
       "    <tr>\n",
       "      <th>0</th>\n",
       "      <td>0.267826</td>\n",
       "      <td>8.893525</td>\n",
       "      <td>14.171609</td>\n",
       "      <td>7.768881</td>\n",
       "      <td>6.955432</td>\n",
       "      <td>2.780084</td>\n",
       "    </tr>\n",
       "    <tr>\n",
       "      <th>1</th>\n",
       "      <td>-0.224049</td>\n",
       "      <td>1.702502</td>\n",
       "      <td>0.146066</td>\n",
       "      <td>0.117370</td>\n",
       "      <td>1.827174</td>\n",
       "      <td>2.301975</td>\n",
       "    </tr>\n",
       "    <tr>\n",
       "      <th>2</th>\n",
       "      <td>0.267826</td>\n",
       "      <td>3.801943</td>\n",
       "      <td>2.861342</td>\n",
       "      <td>1.996662</td>\n",
       "      <td>3.186712</td>\n",
       "      <td>2.118087</td>\n",
       "    </tr>\n",
       "    <tr>\n",
       "      <th>3</th>\n",
       "      <td>0.267826</td>\n",
       "      <td>0.391402</td>\n",
       "      <td>0.010649</td>\n",
       "      <td>0.129186</td>\n",
       "      <td>0.195959</td>\n",
       "      <td>0.928944</td>\n",
       "    </tr>\n",
       "    <tr>\n",
       "      <th>4</th>\n",
       "      <td>0.779375</td>\n",
       "      <td>-0.207050</td>\n",
       "      <td>-0.120617</td>\n",
       "      <td>-0.146122</td>\n",
       "      <td>-0.194836</td>\n",
       "      <td>0.573427</td>\n",
       "    </tr>\n",
       "    <tr>\n",
       "      <th>...</th>\n",
       "      <td>...</td>\n",
       "      <td>...</td>\n",
       "      <td>...</td>\n",
       "      <td>...</td>\n",
       "      <td>...</td>\n",
       "      <td>...</td>\n",
       "    </tr>\n",
       "    <tr>\n",
       "      <th>14532</th>\n",
       "      <td>-0.224049</td>\n",
       "      <td>-0.286585</td>\n",
       "      <td>-0.122462</td>\n",
       "      <td>-0.194441</td>\n",
       "      <td>-0.268396</td>\n",
       "      <td>-0.002755</td>\n",
       "    </tr>\n",
       "    <tr>\n",
       "      <th>14533</th>\n",
       "      <td>-0.184699</td>\n",
       "      <td>-0.300933</td>\n",
       "      <td>-0.124077</td>\n",
       "      <td>-0.194290</td>\n",
       "      <td>-0.268396</td>\n",
       "      <td>-0.002755</td>\n",
       "    </tr>\n",
       "    <tr>\n",
       "      <th>14534</th>\n",
       "      <td>-0.224049</td>\n",
       "      <td>-0.296790</td>\n",
       "      <td>-0.123846</td>\n",
       "      <td>-0.194441</td>\n",
       "      <td>-0.268406</td>\n",
       "      <td>-0.002755</td>\n",
       "    </tr>\n",
       "    <tr>\n",
       "      <th>14535</th>\n",
       "      <td>-0.184699</td>\n",
       "      <td>-0.205074</td>\n",
       "      <td>-0.105852</td>\n",
       "      <td>-0.194365</td>\n",
       "      <td>-0.268366</td>\n",
       "      <td>-0.002755</td>\n",
       "    </tr>\n",
       "    <tr>\n",
       "      <th>14536</th>\n",
       "      <td>-0.224049</td>\n",
       "      <td>-0.225432</td>\n",
       "      <td>-0.086243</td>\n",
       "      <td>-0.138822</td>\n",
       "      <td>-0.195912</td>\n",
       "      <td>0.009504</td>\n",
       "    </tr>\n",
       "  </tbody>\n",
       "</table>\n",
       "<p>14537 rows × 6 columns</p>\n",
       "</div>"
      ],
      "text/plain": [
       "       Episodes   Members  Favorites  Watching  Completed     Score\n",
       "0      0.267826  8.893525  14.171609  7.768881   6.955432  2.780084\n",
       "1     -0.224049  1.702502   0.146066  0.117370   1.827174  2.301975\n",
       "2      0.267826  3.801943   2.861342  1.996662   3.186712  2.118087\n",
       "3      0.267826  0.391402   0.010649  0.129186   0.195959  0.928944\n",
       "4      0.779375 -0.207050  -0.120617 -0.146122  -0.194836  0.573427\n",
       "...         ...       ...        ...       ...        ...       ...\n",
       "14532 -0.224049 -0.286585  -0.122462 -0.194441  -0.268396 -0.002755\n",
       "14533 -0.184699 -0.300933  -0.124077 -0.194290  -0.268396 -0.002755\n",
       "14534 -0.224049 -0.296790  -0.123846 -0.194441  -0.268406 -0.002755\n",
       "14535 -0.184699 -0.205074  -0.105852 -0.194365  -0.268366 -0.002755\n",
       "14536 -0.224049 -0.225432  -0.086243 -0.138822  -0.195912  0.009504\n",
       "\n",
       "[14537 rows x 6 columns]"
      ]
     },
     "execution_count": 18,
     "metadata": {},
     "output_type": "execute_result"
    }
   ],
   "source": [
    "from sklearn import preprocessing\n",
    "\n",
    "# Datos escalados\n",
    "Anime_DB_scaled = preprocessing.StandardScaler().fit_transform(Anime_DB)\n",
    "Anime_DB_scaled = pd.DataFrame(Anime_DB_scaled) \n",
    "Anime_DB_scaled = Anime_DB_scaled.rename(columns = {0:'Episodes',1: 'Members', 2:'Favorites',3:'Watching',4:'Completed',5:'Score'})\n",
    "Anime_DB_scaled"
   ]
  },
  {
   "attachments": {},
   "cell_type": "markdown",
   "metadata": {},
   "source": [
    "### **DBSCAN**\n",
    "\n",
    "DBSCAN (_Density-based spatial clustering of applications with noise_) es un algoritmo no supervisado que modela clusters con una alta densidad de puntos, para ello se apoya de un _radio epsilon_, el cuál definirá el tamaño de la vecindad alrededor de cada uno de los puntos, y una _cota mínima de puntos_ para cada vecindad. \n",
    "Aquellos puntos que dentro de su vecindad contengan esa cantidad mínima de puntos establecida se considerarán **puntos centrales**, mientras que los que no cumplan con la cota pero contengan al menos un punto central en su vecindad son considerados **puntos fronterizos**.\n",
    "\n",
    "**Notas**: \n",
    "- El resto de puntos que no caen dentro de estas dos categorías son considerados ruido u outliers del conjunto de datos. \n",
    "- La función de distancia entre puntos es seleccionada por el investigador, en este caso, se tomará la distancia euclideana.\n",
    "\n",
    "DBSCAN es considerado un algoritmo útil para la detección de outliers. Para ejemplo, revisemos su aplicación para las variables \"Favoritos\" y \"Puntuación\", teniendo presente que la puntuación de un anime puede estar determinada por la selección de anime favorito por parte del público."
   ]
  },
  {
   "cell_type": "code",
   "execution_count": 25,
   "metadata": {},
   "outputs": [
    {
     "data": {
      "image/png": "[encoded data removed]",
      "text/plain": [
       "<Figure size 640x480 with 1 Axes>"
      ]
     },
     "metadata": {},
     "output_type": "display_data"
    }
   ],
   "source": [
    "from sklearn.cluster import DBSCAN\n",
    "import matplotlib.pyplot as plt\n",
    "\n",
    "X=Anime_DB\n",
    "X_s=Anime_DB_scaled\n",
    "\n",
    "# Seleccionamos las variables Favoritos y Puntuación\n",
    "X1_s = X_s[[\"Favorites\",\"Score\"]]\n",
    "X1 = X[[\"Favorites\",\"Score\"]]\n",
    "\n",
    "model_dbscan1 = DBSCAN(eps=0.5, min_samples = 5, metric = \"euclidean\").fit(X1_s)\n",
    "res_clusters1 = model_dbscan1.fit_predict(X1_s)\n",
    "\n",
    "from matplotlib import rc\n",
    "\n",
    "rc('font', **{'family': 'serif', 'serif': ['Computer Modern']})\n",
    "rc('text', usetex=True)\n",
    "\n",
    "# Grafica\n",
    "plt.figure()\n",
    "plt.scatter(X1.values[:, 1], X1.values[:, 0], c=res_clusters1, cmap=\"plasma\")\n",
    "plt.xlabel(\"Score\")\n",
    "plt.ylabel(\"Favorites\")\n",
    "#plt.title('DBSCAN Results')\n",
    "#plt.savefig('dbscan_alqu.png',dpi=400)\n",
    "plt.show()"
   ]
  },
  {
   "cell_type": "code",
   "execution_count": 26,
   "metadata": {},
   "outputs": [
    {
     "name": "stdout",
     "output_type": "stream",
     "text": [
      "Se han generado  2  clusters\n"
     ]
    }
   ],
   "source": [
    "import numpy as np \n",
    "\n",
    "# Clusters generados\n",
    "#np.unique(modelo_dbscan1.labels_)\n",
    "n_clusters1 = len(set(model_dbscan1.labels_)) - (1 if -1 in model_dbscan1.labels_ else 0)\n",
    "print('Se han generado ',n_clusters1,' clusters')"
   ]
  },
  {
   "cell_type": "code",
   "execution_count": 27,
   "metadata": {},
   "outputs": [
    {
     "name": "stdout",
     "output_type": "stream",
     "text": [
      "Se han identificado  38  outliers a partir del DBSCAN\n"
     ]
    }
   ],
   "source": [
    "# Outliers identificados\n",
    "print('Se han identificado ',len(X1[model_dbscan1.labels_==-1]),' outliers a partir del DBSCAN')"
   ]
  },
  {
   "attachments": {},
   "cell_type": "markdown",
   "metadata": {},
   "source": [
    "Del gráfico anterior, se identifican la existencia de *38 outliers* (identificados en color azul), en base a los parámetros elegidos para el modelo, además se han generado 2 clústers. Para esta primera aplicación se ha decidido seleccionar de forma arbitraria los parámetros, sin embargo, en la practica se recomienda utilizar algún modelo o criterio razonable para su elección"
   ]
  },
  {
   "attachments": {},
   "cell_type": "markdown",
   "metadata": {},
   "source": [
    "### **Selección de parámetros**"
   ]
  },
  {
   "attachments": {},
   "cell_type": "markdown",
   "metadata": {},
   "source": [
    "Una manera de seleccionar el valor epsilon del modelo, se da a tráves del uso del método _K-Nearest Neighbors_ (Sharma, 2017), un algoritmo no parametrico cuyo objetivo es encontrar el promedio de distancias para cada punto a sus K vecinos más cercanos, para posteriormente seleccionar la distancia a la que ocurre la curvatura máxima. "
   ]
  },
  {
   "cell_type": "code",
   "execution_count": 32,
   "metadata": {},
   "outputs": [
    {
     "data": {
      "image/png": "[encoded data removed]",
      "text/plain": [
       "<Figure size 640x480 with 1 Axes>"
      ]
     },
     "metadata": {},
     "output_type": "display_data"
    }
   ],
   "source": [
    "from sklearn.neighbors import NearestNeighbors\n",
    "\n",
    "# Algoritmo KNN\n",
    "modelNN1 = NearestNeighbors(n_neighbors=5)\n",
    "modelNN1.fit(X1_s)\n",
    "distances, indices = modelNN1.kneighbors(X1_s)\n",
    "distances = np.sort(distances, axis=0)[:, 1]\n",
    "plt.plot(distances,color='#FF4633')\n",
    "plt.show()"
   ]
  },
  {
   "attachments": {},
   "cell_type": "markdown",
   "metadata": {},
   "source": [
    "Como podemos observar, el épsilon predeterminado se encuentra por debajo de 0.2"
   ]
  },
  {
   "cell_type": "code",
   "execution_count": 34,
   "metadata": {},
   "outputs": [
    {
     "data": {
      "image/png": "[encoded data removed]",
      "text/plain": [
       "<Figure size 640x480 with 1 Axes>"
      ]
     },
     "metadata": {},
     "output_type": "display_data"
    }
   ],
   "source": [
    "import matplotlib.pyplot as plt\n",
    "import matplotlib\n",
    "\n",
    "model_dbscan2 = DBSCAN(eps=0.2, min_samples = 5, metric = \"euclidean\").fit(X1_s)\n",
    "res_clusters2 = model_dbscan2.fit_predict(X1_s)\n",
    "\n",
    "# Grafica\n",
    "plt.figure()\n",
    "plt.scatter(X1.values[:, 1], X1.values[:, 0], c=res_clusters2, cmap=\"plasma\")\n",
    "plt.xlabel(\"Score\")\n",
    "plt.ylabel(\"Favorites\")\n",
    "plt.title('DBSCAN Results')\n",
    "plt.show()\n"
   ]
  },
  {
   "cell_type": "code",
   "execution_count": 35,
   "metadata": {},
   "outputs": [
    {
     "name": "stdout",
     "output_type": "stream",
     "text": [
      "Se han generado  5  clusters\n"
     ]
    }
   ],
   "source": [
    "# Clusters generados\n",
    "n_clusters2 = len(set(model_dbscan2.labels_)) - (1 if -1 in model_dbscan2.labels_ else 0)\n",
    "print('Se han generado ',n_clusters2,' clusters')"
   ]
  },
  {
   "cell_type": "code",
   "execution_count": 36,
   "metadata": {},
   "outputs": [
    {
     "name": "stdout",
     "output_type": "stream",
     "text": [
      "Se han identificado  149  outliers a partir del DBSCAN\n"
     ]
    }
   ],
   "source": [
    "# Outliers identificados\n",
    "print('Se han identificado ',len(X1[model_dbscan2.labels_==-1]),' outliers a partir del DBSCAN')"
   ]
  },
  {
   "attachments": {},
   "cell_type": "markdown",
   "metadata": {},
   "source": [
    "En esta segunda ronda podemos observar que al disminuir el radio de la vecindad, los clusteres han aumentado, así como la cantidad de valores atípicos."
   ]
  },
  {
   "attachments": {},
   "cell_type": "markdown",
   "metadata": {},
   "source": [
    "### **Extensión Completa**"
   ]
  },
  {
   "attachments": {},
   "cell_type": "markdown",
   "metadata": {},
   "source": [
    "En la sección anterior, se presentó de manera aislada el DBSCAN para las variables alcohol y calidad, con el objetivo de analizar visualmente los clústers, sin embargo, el algoritmo puede ser aplicado al conjunto de datos completo, como se presenta a continuación:"
   ]
  },
  {
   "cell_type": "code",
   "execution_count": 37,
   "metadata": {},
   "outputs": [
    {
     "data": {
      "image/png": "[encoded data removed]",
      "text/plain": [
       "<Figure size 640x480 with 1 Axes>"
      ]
     },
     "metadata": {},
     "output_type": "display_data"
    }
   ],
   "source": [
    "# Algoritmo KNN\n",
    "modelNNX = NearestNeighbors(n_neighbors=5)\n",
    "modelNNX.fit(X_s)\n",
    "distances, indices = modelNNX.kneighbors(X_s)\n",
    "distances = np.sort(distances, axis=0)[:, 1]\n",
    "plt.plot(distances,color='#FF4633')\n",
    "plt.show()"
   ]
  },
  {
   "attachments": {},
   "cell_type": "markdown",
   "metadata": {},
   "source": [
    "Épsilon entre 1 y 2 de acuerdo al algoritmo KNN, consideremos un valor de 1.5"
   ]
  },
  {
   "cell_type": "code",
   "execution_count": 38,
   "metadata": {},
   "outputs": [],
   "source": [
    "# DBSCAN para todo el conjunto\n",
    "model_dbscanX = DBSCAN(eps=1.5, min_samples = 5, metric = \"euclidean\").fit(X_s)"
   ]
  },
  {
   "cell_type": "code",
   "execution_count": 39,
   "metadata": {},
   "outputs": [
    {
     "name": "stdout",
     "output_type": "stream",
     "text": [
      "Se han generado  2  clusters\n"
     ]
    }
   ],
   "source": [
    "# Clusters generados\n",
    "n_clustersX = len(set(model_dbscanX.labels_)) - (1 if -1 in model_dbscanX.labels_ else 0)\n",
    "print('Se han generado ',n_clustersX,' clusters')"
   ]
  },
  {
   "cell_type": "code",
   "execution_count": 40,
   "metadata": {},
   "outputs": [
    {
     "name": "stdout",
     "output_type": "stream",
     "text": [
      "Se han identificado  134  outliers a partir del DBSCAN\n"
     ]
    }
   ],
   "source": [
    "# Outliers identificados\n",
    "print('Se han identificado ',len(X[model_dbscanX.labels_==-1]),' outliers a partir del DBSCAN')"
   ]
  },
  {
   "attachments": {},
   "cell_type": "markdown",
   "metadata": {},
   "source": [
    "El modelo ha formado 2 clústers y ha identificado 134 outliers a partir de un épsilon de 1.5 y una cantidad mínima de 5 puntos por vecindad. Estos puntos atípicos pueden ser eliminados del total de la muestra como paso previo a probar algoritmos de predicción, tales como regresiones."
   ]
  },
  {
   "attachments": {},
   "cell_type": "markdown",
   "metadata": {},
   "source": [
    "### **Uso del DBSCAN bajo un PCA**"
   ]
  },
  {
   "attachments": {},
   "cell_type": "markdown",
   "metadata": {},
   "source": [
    "PCA (_Principal Component Analysis_) es un método de aprendizaje no supervisado utilizado en espacios de alta dimensión, el cuál busca reducir la complejidad de los datos mientras a su vez conservar la mayor parte de la información. \n",
    "\n",
    "Por lo que la pregunta es: ¿Qué resultado tendríamos si utilizamos PCA en los datos y posteriormente aplicamos el algoritmo DBSCAN?"
   ]
  },
  {
   "cell_type": "code",
   "execution_count": 41,
   "metadata": {},
   "outputs": [
    {
     "name": "stdout",
     "output_type": "stream",
     "text": [
      "[0.56261526 0.72977575 0.86818197 0.95389374 0.99863527 1.        ]\n"
     ]
    }
   ],
   "source": [
    "from sklearn.decomposition import PCA\n",
    "\n",
    "# PCA modelo\n",
    "modelPCA = PCA(n_components = None)\n",
    "X_PCA = modelPCA.fit_transform(X_s)\n",
    "explained_variance = modelPCA.explained_variance_ratio_\n",
    "cum_explained_variance = np.cumsum(explained_variance)\n",
    "\n",
    "# Varianzas explicadas por componentes\n",
    "print(cum_explained_variance)"
   ]
  },
  {
   "cell_type": "code",
   "execution_count": 42,
   "metadata": {},
   "outputs": [
    {
     "data": {
      "image/png": "[encoded data removed]",
      "text/plain": [
       "<Figure size 640x480 with 1 Axes>"
      ]
     },
     "metadata": {},
     "output_type": "display_data"
    }
   ],
   "source": [
    "# Gráfico\n",
    "plt.bar(range(1, len(explained_variance)+1), explained_variance, alpha=0.75, align='center',label='IEV',color='#FF4633')\n",
    "plt.step(range(1, len(explained_variance)+1), cum_explained_variance, where='mid',label='CEV',color='blue')\n",
    "plt.ylim(0, 1.1)\n",
    "plt.xlabel('Principal components')\n",
    "plt.ylabel('EV')\n",
    "plt.legend(loc='best')\n",
    "#plt.savefig(\"PCA_6.png\",dpi=200)\n",
    "plt.show()"
   ]
  },
  {
   "attachments": {},
   "cell_type": "markdown",
   "metadata": {},
   "source": [
    "Si bien existen varios criterios distintos para seleccionar el número de componentes, hay dos de ellos que son muy populares:\n",
    "\n",
    "1. Seleccionar el número de componentes mínimo a partir del cual el incremento de la varianza acumulada deja de ser sustancial\n",
    "2. Tomar los primeros k componentes que capturan al menos el 80% de la suma total de la varianza.\n",
    "\n",
    "Consideremos 3 componentes con un 85% de la varianza explicada"
   ]
  },
  {
   "cell_type": "code",
   "execution_count": 44,
   "metadata": {},
   "outputs": [
    {
     "data": {
      "image/png": "[encoded data removed]",
      "text/plain": [
       "<Figure size 640x480 with 1 Axes>"
      ]
     },
     "metadata": {},
     "output_type": "display_data"
    }
   ],
   "source": [
    "X_PCA = pd.DataFrame(X_PCA)\n",
    "X_PCA_2 = X_PCA.iloc[:,0:2]\n",
    "\n",
    "# Algoritmo KNN\n",
    "modelNNXPCA = NearestNeighbors(n_neighbors=5)\n",
    "modelNNXPCA.fit(X_PCA_2)\n",
    "distances, indices = modelNNXPCA.kneighbors(X_PCA_2)\n",
    "distances = np.sort(distances, axis=0)[:, 1]\n",
    "plt.plot(distances,color='#FF4633')\n",
    "plt.show()"
   ]
  },
  {
   "cell_type": "code",
   "execution_count": 45,
   "metadata": {},
   "outputs": [],
   "source": [
    "# DBSCAN para todo el conjunto\n",
    "model_dbscanXPCA = DBSCAN(eps=1, min_samples = 5, metric = \"euclidean\").fit(X_PCA_2)"
   ]
  },
  {
   "cell_type": "code",
   "execution_count": 46,
   "metadata": {},
   "outputs": [
    {
     "name": "stdout",
     "output_type": "stream",
     "text": [
      "Se han generado  2  clusters\n"
     ]
    }
   ],
   "source": [
    "# Clusters generados\n",
    "n_clustersXPCA = len(set(model_dbscanXPCA.labels_)) - (1 if -1 in model_dbscanXPCA.labels_ else 0)\n",
    "print('Se han generado ',n_clustersXPCA,' clusters')"
   ]
  },
  {
   "cell_type": "code",
   "execution_count": 48,
   "metadata": {},
   "outputs": [
    {
     "name": "stdout",
     "output_type": "stream",
     "text": [
      "Se han identificado  42  outliers a partir del DBSCAN\n"
     ]
    }
   ],
   "source": [
    "# Outliers identificados\n",
    "print('Se han identificado ',len(X_PCA_2[model_dbscanXPCA.labels_==-1]),' outliers a partir del DBSCAN')"
   ]
  },
  {
   "attachments": {},
   "cell_type": "markdown",
   "metadata": {},
   "source": [
    "Se logró reducir la dimensionalidad de los datos de 5 a 2, y el DBSCAN aplicado a esta nueva dimensionalidad ha generado 2 clústers y 42 outliers, un tercio del obtenido bajo el uso del algoritmo para todos los datos originales."
   ]
  },
  {
   "cell_type": "code",
   "execution_count": 50,
   "metadata": {},
   "outputs": [],
   "source": [
    "model_dbscanTest01 = DBSCAN(eps=0.1, min_samples = 5, metric = \"euclidean\").fit(X_s)\n",
    "model_dbscanTest05 = DBSCAN(eps=0.5, min_samples = 5, metric = \"euclidean\").fit(X_s)\n",
    "model_dbscanTest1 = DBSCAN(eps=1, min_samples = 5, metric = \"euclidean\").fit(X_s)\n",
    "model_dbscanTest15 = DBSCAN(eps=1.5, min_samples = 5, metric = \"euclidean\").fit(X_s)\n",
    "model_dbscanTest2 = DBSCAN(eps=2, min_samples = 5, metric = \"euclidean\").fit(X_s)\n",
    "\n",
    "resp_dbscan = pd.DataFrame({'0.1': [len(set(model_dbscanTest01.labels_)) - (1 if -1 in model_dbscanTest01.labels_ else 0),\n",
    "                    len(X[model_dbscanTest01.labels_==-1])],\n",
    "                    '0.5': [len(set(model_dbscanTest05.labels_)) - (1 if -1 in model_dbscanTest05.labels_ else 0),\n",
    "                    len(X[model_dbscanTest05.labels_==-1])],\n",
    "                    '1.0':[len(set(model_dbscanTest1.labels_)) - (1 if -1 in model_dbscanTest1.labels_ else 0),\n",
    "                    len(X[model_dbscanTest1.labels_==-1])],\n",
    "                    '1.5':[len(set(model_dbscanTest15.labels_)) - (1 if -1 in model_dbscanTest15.labels_ else 0),\n",
    "                    len(X[model_dbscanTest15.labels_==-1])],\n",
    "                    '2.0':[len(set(model_dbscanTest2.labels_)) - (1 if -1 in model_dbscanTest2.labels_ else 0),\n",
    "                    len(X[model_dbscanTest2.labels_==-1])]  })\n",
    "\n",
    "resp_dbscan.rename(index= {0:'No. Clústers',1:'No. Outliers'}, inplace=True)"
   ]
  },
  {
   "attachments": {},
   "cell_type": "markdown",
   "metadata": {},
   "source": [
    "### **Resumen**"
   ]
  },
  {
   "cell_type": "code",
   "execution_count": 51,
   "metadata": {},
   "outputs": [
    {
     "data": {
      "text/html": [
       "<div>\n",
       "<style scoped>\n",
       "    .dataframe tbody tr th:only-of-type {\n",
       "        vertical-align: middle;\n",
       "    }\n",
       "\n",
       "    .dataframe tbody tr th {\n",
       "        vertical-align: top;\n",
       "    }\n",
       "\n",
       "    .dataframe thead th {\n",
       "        text-align: right;\n",
       "    }\n",
       "</style>\n",
       "<table border=\"1\" class=\"dataframe\">\n",
       "  <thead>\n",
       "    <tr style=\"text-align: right;\">\n",
       "      <th></th>\n",
       "      <th>0.1</th>\n",
       "      <th>0.5</th>\n",
       "      <th>1.0</th>\n",
       "      <th>1.5</th>\n",
       "      <th>2.0</th>\n",
       "    </tr>\n",
       "  </thead>\n",
       "  <tbody>\n",
       "    <tr>\n",
       "      <th>No. Clústers</th>\n",
       "      <td>20</td>\n",
       "      <td>3</td>\n",
       "      <td>4</td>\n",
       "      <td>2</td>\n",
       "      <td>2</td>\n",
       "    </tr>\n",
       "    <tr>\n",
       "      <th>No. Outliers</th>\n",
       "      <td>2631</td>\n",
       "      <td>543</td>\n",
       "      <td>218</td>\n",
       "      <td>134</td>\n",
       "      <td>75</td>\n",
       "    </tr>\n",
       "  </tbody>\n",
       "</table>\n",
       "</div>"
      ],
      "text/plain": [
       "               0.1  0.5  1.0  1.5  2.0\n",
       "No. Clústers    20    3    4    2    2\n",
       "No. Outliers  2631  543  218  134   75"
      ]
     },
     "execution_count": 51,
     "metadata": {},
     "output_type": "execute_result"
    }
   ],
   "source": [
    "resp_dbscan"
   ]
  },
  {
   "attachments": {},
   "cell_type": "markdown",
   "metadata": {},
   "source": [
    "Como se mencionó anteriormente, entre más grande sea el épsilon seleccionado del algoritmo, menor cantidad de clústers y outliers se generarán, al abarcar con dicho radio casi todos los puntos."
   ]
  }
 ],
 "metadata": {
  "kernelspec": {
   "display_name": "Python 3",
   "language": "python",
   "name": "python3"
  },
  "language_info": {
   "codemirror_mode": {
    "name": "ipython",
    "version": 3
   },
   "file_extension": ".py",
   "mimetype": "text/x-python",
   "name": "python",
   "nbconvert_exporter": "python",
   "pygments_lexer": "ipython3",
   "version": "3.10.11"
  },
  "orig_nbformat": 4,
  "vscode": {
   "interpreter": {
    "hash": "96748773c7e69786d6b782d7f74ae71633dcb1c0b499cdd27921b016107794e2"
   }
  }
 },
 "nbformat": 4,
 "nbformat_minor": 2
}
